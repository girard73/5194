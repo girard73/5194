{
  "cells": [
    {
      "cell_type": "markdown",
      "id": "1331faa1",
      "metadata": {
        "id": "1331faa1"
      },
      "source": [
        "You can order print and ebook versions of *Think Python 3e* from\n",
        "[Bookshop.org](https://bookshop.org/a/98697/9781098155438) and\n",
        "[Amazon](https://www.amazon.com/_/dp/1098155432?smid=ATVPDKIKX0DER&_encoding=UTF8&tag=oreilly20-20&_encoding=UTF8&tag=greenteapre01-20&linkCode=ur2&linkId=e2a529f94920295d27ec8a06e757dc7c&camp=1789&creative=9325)."
      ]
    },
    {
      "cell_type": "code",
      "execution_count": 32,
      "id": "8119ba50",
      "metadata": {
        "tags": [],
        "id": "8119ba50"
      },
      "outputs": [],
      "source": [
        "from os.path import basename, exists\n",
        "\n",
        "def download(url):\n",
        "    filename = basename(url)\n",
        "    if not exists(filename):\n",
        "        from urllib.request import urlretrieve\n",
        "\n",
        "        local, _ = urlretrieve(url, filename)\n",
        "        print(\"Downloaded \" + str(local))\n",
        "    return filename\n",
        "\n",
        "download('https://github.com/AllenDowney/ThinkPython/raw/v3/thinkpython.py');\n",
        "download('https://github.com/AllenDowney/ThinkPython/raw/v3/diagram.py');\n",
        "download('https://github.com/ramalho/jupyturtle/releases/download/2024-03/jupyturtle.py');\n",
        "\n",
        "import thinkpython"
      ]
    },
    {
      "cell_type": "markdown",
      "id": "75b60d6c",
      "metadata": {
        "id": "75b60d6c"
      },
      "source": [
        "# Conditionals and Recursion\n",
        "\n",
        "The main topic of this chapter is the `if` statement, which executes different code depending on the state of the program.\n",
        "And with the `if` statement we'll be able to explore one of the most powerful ideas in computing, **recursion**.\n",
        "\n",
        "But we'll start with three new features: the modulus operator, boolean expressions, and logical operators."
      ]
    },
    {
      "cell_type": "markdown",
      "id": "4ab7caf4",
      "metadata": {
        "id": "4ab7caf4"
      },
      "source": [
        "## Integer division and modulus\n",
        "\n",
        "Recall that the integer division operator, `//`, divides two numbers and rounds\n",
        "down to an integer.\n",
        "For example, suppose the run time of a movie is 105 minutes.\n",
        "You might want to know how long that is in hours.\n",
        "Conventional division returns a floating-point number:"
      ]
    },
    {
      "cell_type": "code",
      "execution_count": 2,
      "id": "30bd0ba7",
      "metadata": {
        "colab": {
          "base_uri": "https://localhost:8080/"
        },
        "id": "30bd0ba7",
        "outputId": "24690527-3e84-46fe-a639-5d118891bce7"
      },
      "outputs": [
        {
          "output_type": "execute_result",
          "data": {
            "text/plain": [
              "1.75"
            ]
          },
          "metadata": {},
          "execution_count": 2
        }
      ],
      "source": [
        "minutes = 105\n",
        "minutes / 60"
      ]
    },
    {
      "cell_type": "markdown",
      "id": "3f224403",
      "metadata": {
        "id": "3f224403"
      },
      "source": [
        "But we don't normally write hours with decimal points.\n",
        "Integer division returns the integer number of hours, rounding down:"
      ]
    },
    {
      "cell_type": "code",
      "execution_count": 3,
      "id": "451e3198",
      "metadata": {
        "colab": {
          "base_uri": "https://localhost:8080/"
        },
        "id": "451e3198",
        "outputId": "0523d199-bc2a-4c0f-ccbd-d6f557857b47"
      },
      "outputs": [
        {
          "output_type": "execute_result",
          "data": {
            "text/plain": [
              "1"
            ]
          },
          "metadata": {},
          "execution_count": 3
        }
      ],
      "source": [
        "minutes = 105\n",
        "hours = minutes // 60\n",
        "hours"
      ]
    },
    {
      "cell_type": "markdown",
      "id": "bfa9b0cf",
      "metadata": {
        "id": "bfa9b0cf"
      },
      "source": [
        "To get the remainder, you could subtract off one hour in minutes:"
      ]
    },
    {
      "cell_type": "code",
      "execution_count": 4,
      "id": "64b92876",
      "metadata": {
        "colab": {
          "base_uri": "https://localhost:8080/"
        },
        "id": "64b92876",
        "outputId": "8dd94b2b-16af-41a3-ed67-d1c124416776"
      },
      "outputs": [
        {
          "output_type": "execute_result",
          "data": {
            "text/plain": [
              "45"
            ]
          },
          "metadata": {},
          "execution_count": 4
        }
      ],
      "source": [
        "remainder = minutes - hours * 60\n",
        "remainder"
      ]
    },
    {
      "cell_type": "markdown",
      "id": "05caf27f",
      "metadata": {
        "id": "05caf27f"
      },
      "source": [
        "Or you could use the **modulus operator**, `%`, which divides two numbers and returns the remainder."
      ]
    },
    {
      "cell_type": "code",
      "execution_count": 5,
      "id": "0a593844",
      "metadata": {
        "colab": {
          "base_uri": "https://localhost:8080/"
        },
        "id": "0a593844",
        "outputId": "b574b296-a790-4055-d9c4-1eb6d4f6cec6"
      },
      "outputs": [
        {
          "output_type": "execute_result",
          "data": {
            "text/plain": [
              "45"
            ]
          },
          "metadata": {},
          "execution_count": 5
        }
      ],
      "source": [
        "remainder = minutes % 60\n",
        "remainder"
      ]
    },
    {
      "cell_type": "markdown",
      "id": "18c1e0d0",
      "metadata": {
        "id": "18c1e0d0"
      },
      "source": [
        "The modulus operator is more useful than it might seem.\n",
        "For example, it can check whether one number is divisible by another -- if `x % y` is zero, then `x` is divisible by `y`.\n",
        "\n",
        "Also, it can extract the right-most digit or digits from a number.\n",
        "For example, `x % 10` yields the right-most digit of `x` (in base 10).\n",
        "Similarly, `x % 100` yields the last two digits."
      ]
    },
    {
      "cell_type": "code",
      "execution_count": 6,
      "id": "5bd341f7",
      "metadata": {
        "colab": {
          "base_uri": "https://localhost:8080/"
        },
        "id": "5bd341f7",
        "outputId": "2aeac51a-45b0-42e5-b1ae-eb977a57e5f3"
      },
      "outputs": [
        {
          "output_type": "execute_result",
          "data": {
            "text/plain": [
              "3"
            ]
          },
          "metadata": {},
          "execution_count": 6
        }
      ],
      "source": [
        "x = 123\n",
        "x % 10"
      ]
    },
    {
      "cell_type": "code",
      "execution_count": 7,
      "id": "367fce0c",
      "metadata": {
        "colab": {
          "base_uri": "https://localhost:8080/"
        },
        "id": "367fce0c",
        "outputId": "6df8f132-44db-4fc0-d94b-52b3a9691958"
      },
      "outputs": [
        {
          "output_type": "execute_result",
          "data": {
            "text/plain": [
              "23"
            ]
          },
          "metadata": {},
          "execution_count": 7
        }
      ],
      "source": [
        "x % 100"
      ]
    },
    {
      "cell_type": "markdown",
      "id": "f2344fc0",
      "metadata": {
        "id": "f2344fc0"
      },
      "source": [
        "Finally, the modulus operator can do \"clock arithmetic\".\n",
        "For example, if an event starts at 11 AM and lasts three hours, we can use the modulus operator to figure out what time it ends."
      ]
    },
    {
      "cell_type": "code",
      "execution_count": 8,
      "id": "db33a44d",
      "metadata": {
        "colab": {
          "base_uri": "https://localhost:8080/"
        },
        "id": "db33a44d",
        "outputId": "6ba2e0be-b8d0-4e95-f31a-f1fda122a9ce"
      },
      "outputs": [
        {
          "output_type": "execute_result",
          "data": {
            "text/plain": [
              "2"
            ]
          },
          "metadata": {},
          "execution_count": 8
        }
      ],
      "source": [
        "start = 11\n",
        "duration = 3\n",
        "end = (start + duration) % 12\n",
        "end"
      ]
    },
    {
      "cell_type": "markdown",
      "id": "351c30df",
      "metadata": {
        "id": "351c30df"
      },
      "source": [
        "The event would end at 2 PM."
      ]
    },
    {
      "cell_type": "markdown",
      "id": "5ed1b58b",
      "metadata": {
        "id": "5ed1b58b"
      },
      "source": [
        "## Boolean Expressions\n",
        "\n",
        "A **boolean expression** is an expression that is either true or false.\n",
        "For example, the following expressions use the equals operator, `==`, which compares two values and produces `True` if they are equal and `False` otherwise:"
      ]
    },
    {
      "cell_type": "code",
      "execution_count": 9,
      "id": "85589d38",
      "metadata": {
        "colab": {
          "base_uri": "https://localhost:8080/"
        },
        "id": "85589d38",
        "outputId": "492992ee-3a3f-456a-b890-676b936309d7"
      },
      "outputs": [
        {
          "output_type": "execute_result",
          "data": {
            "text/plain": [
              "True"
            ]
          },
          "metadata": {},
          "execution_count": 9
        }
      ],
      "source": [
        "5 == 5"
      ]
    },
    {
      "cell_type": "code",
      "execution_count": 10,
      "id": "3c9c8f61",
      "metadata": {
        "colab": {
          "base_uri": "https://localhost:8080/"
        },
        "id": "3c9c8f61",
        "outputId": "0846928d-076f-4bef-c1d1-05f5eb1f5bc1"
      },
      "outputs": [
        {
          "output_type": "execute_result",
          "data": {
            "text/plain": [
              "False"
            ]
          },
          "metadata": {},
          "execution_count": 10
        }
      ],
      "source": [
        "5 == 7"
      ]
    },
    {
      "cell_type": "markdown",
      "id": "41fbc642",
      "metadata": {
        "id": "41fbc642"
      },
      "source": [
        "A common error is to use a single equal sign (`=`) instead of a double equal sign (`==`).\n",
        "Remember that `=` assigns a value to a variable and `==` compares two values."
      ]
    },
    {
      "cell_type": "code",
      "execution_count": 11,
      "id": "c0e51bcc",
      "metadata": {
        "id": "c0e51bcc"
      },
      "outputs": [],
      "source": [
        "x = 5\n",
        "y = 7"
      ]
    },
    {
      "cell_type": "code",
      "execution_count": 12,
      "id": "a6be44db",
      "metadata": {
        "colab": {
          "base_uri": "https://localhost:8080/"
        },
        "id": "a6be44db",
        "outputId": "170f19e0-5a87-4726-f31c-c31f8943fdc1"
      },
      "outputs": [
        {
          "output_type": "execute_result",
          "data": {
            "text/plain": [
              "False"
            ]
          },
          "metadata": {},
          "execution_count": 12
        }
      ],
      "source": [
        "x == y"
      ]
    },
    {
      "cell_type": "markdown",
      "id": "d3ec6b48",
      "metadata": {
        "id": "d3ec6b48"
      },
      "source": [
        "`True` and `False` are special values that belong to the type `bool`;\n",
        "they are not strings:"
      ]
    },
    {
      "cell_type": "code",
      "execution_count": 13,
      "id": "90fb1c9c",
      "metadata": {
        "colab": {
          "base_uri": "https://localhost:8080/"
        },
        "id": "90fb1c9c",
        "outputId": "f4c4a7e3-c04e-4ccf-fcca-63fdc4a42de9"
      },
      "outputs": [
        {
          "output_type": "execute_result",
          "data": {
            "text/plain": [
              "bool"
            ]
          },
          "metadata": {},
          "execution_count": 13
        }
      ],
      "source": [
        "type(True)"
      ]
    },
    {
      "cell_type": "code",
      "execution_count": 14,
      "id": "c1cae572",
      "metadata": {
        "colab": {
          "base_uri": "https://localhost:8080/"
        },
        "id": "c1cae572",
        "outputId": "088dbce5-0f1d-4c80-9299-2f64e6ae524e"
      },
      "outputs": [
        {
          "output_type": "execute_result",
          "data": {
            "text/plain": [
              "bool"
            ]
          },
          "metadata": {},
          "execution_count": 14
        }
      ],
      "source": [
        "type(False)"
      ]
    },
    {
      "cell_type": "markdown",
      "id": "451b2e8d",
      "metadata": {
        "id": "451b2e8d"
      },
      "source": [
        "The `==` operator is one of the **relational operators**; the others are:"
      ]
    },
    {
      "cell_type": "code",
      "execution_count": 15,
      "id": "c901fe2b",
      "metadata": {
        "colab": {
          "base_uri": "https://localhost:8080/"
        },
        "id": "c901fe2b",
        "outputId": "dc67c567-46cc-4907-ef93-3e5ee7c4a304"
      },
      "outputs": [
        {
          "output_type": "execute_result",
          "data": {
            "text/plain": [
              "True"
            ]
          },
          "metadata": {},
          "execution_count": 15
        }
      ],
      "source": [
        "x != y               # x is not equal to y"
      ]
    },
    {
      "cell_type": "code",
      "execution_count": 16,
      "id": "1457949f",
      "metadata": {
        "colab": {
          "base_uri": "https://localhost:8080/"
        },
        "id": "1457949f",
        "outputId": "52817fc0-f0e8-439e-ce16-5b57be37472e"
      },
      "outputs": [
        {
          "output_type": "execute_result",
          "data": {
            "text/plain": [
              "False"
            ]
          },
          "metadata": {},
          "execution_count": 16
        }
      ],
      "source": [
        "x > y                # x is greater than y"
      ]
    },
    {
      "cell_type": "code",
      "execution_count": 17,
      "id": "56bb7eed",
      "metadata": {
        "colab": {
          "base_uri": "https://localhost:8080/"
        },
        "id": "56bb7eed",
        "outputId": "8330119d-5ce4-4df1-a15e-0fcf9f2c4d95"
      },
      "outputs": [
        {
          "output_type": "execute_result",
          "data": {
            "text/plain": [
              "True"
            ]
          },
          "metadata": {},
          "execution_count": 17
        }
      ],
      "source": [
        "x < y               # x is less than to y"
      ]
    },
    {
      "cell_type": "code",
      "execution_count": 18,
      "id": "1cdcc7ab",
      "metadata": {
        "colab": {
          "base_uri": "https://localhost:8080/"
        },
        "id": "1cdcc7ab",
        "outputId": "39c3bf3c-4fe6-4bec-baef-fb1a8b7cb1b5"
      },
      "outputs": [
        {
          "output_type": "execute_result",
          "data": {
            "text/plain": [
              "False"
            ]
          },
          "metadata": {},
          "execution_count": 18
        }
      ],
      "source": [
        "x >= y               # x is greater than or equal to y"
      ]
    },
    {
      "cell_type": "code",
      "execution_count": 19,
      "id": "df1a1287",
      "metadata": {
        "colab": {
          "base_uri": "https://localhost:8080/"
        },
        "id": "df1a1287",
        "outputId": "ec648acc-05da-446c-c381-b2929b6af523"
      },
      "outputs": [
        {
          "output_type": "execute_result",
          "data": {
            "text/plain": [
              "True"
            ]
          },
          "metadata": {},
          "execution_count": 19
        }
      ],
      "source": [
        "x <= y               # x is less than or equal to y"
      ]
    },
    {
      "cell_type": "markdown",
      "id": "db5a9477",
      "metadata": {
        "id": "db5a9477"
      },
      "source": [
        "## Logical operators\n",
        "\n",
        "To combine boolean values into expressions, we can use **logical operators**.\n",
        "The most common are `and`, ` or`, and `not`.\n",
        "The meaning of these operators is similar to their meaning in English.\n",
        "For example, the value of the following expression is `True` only if `x` is greater than `0` *and* less than `10`."
      ]
    },
    {
      "cell_type": "code",
      "execution_count": 20,
      "id": "848c5f2c",
      "metadata": {
        "colab": {
          "base_uri": "https://localhost:8080/"
        },
        "id": "848c5f2c",
        "outputId": "f16c7c32-7771-40d2-f840-1985ef029b07"
      },
      "outputs": [
        {
          "output_type": "execute_result",
          "data": {
            "text/plain": [
              "True"
            ]
          },
          "metadata": {},
          "execution_count": 20
        }
      ],
      "source": [
        "x > 0 and x < 10"
      ]
    },
    {
      "cell_type": "markdown",
      "id": "e8c14026",
      "metadata": {
        "id": "e8c14026"
      },
      "source": [
        "The following expression is `True` if *either or both* of the conditions is true, that is, if the number is divisible by 2 *or* 3:"
      ]
    },
    {
      "cell_type": "code",
      "execution_count": 21,
      "id": "eb66ee6a",
      "metadata": {
        "colab": {
          "base_uri": "https://localhost:8080/"
        },
        "id": "eb66ee6a",
        "outputId": "150a0528-117d-4393-f563-d5c18cd96fbc"
      },
      "outputs": [
        {
          "output_type": "execute_result",
          "data": {
            "text/plain": [
              "False"
            ]
          },
          "metadata": {},
          "execution_count": 21
        }
      ],
      "source": [
        "x % 2 == 0 or x % 3 == 0"
      ]
    },
    {
      "cell_type": "markdown",
      "id": "3bd0ef52",
      "metadata": {
        "id": "3bd0ef52"
      },
      "source": [
        "Finally, the `not` operator negates a boolean expression, so the following expression is `True` if `x > y` is `False`."
      ]
    },
    {
      "cell_type": "code",
      "execution_count": 22,
      "id": "6de8b97c",
      "metadata": {
        "colab": {
          "base_uri": "https://localhost:8080/"
        },
        "id": "6de8b97c",
        "outputId": "95a7476f-a732-4f24-fd29-252101b425e4"
      },
      "outputs": [
        {
          "output_type": "execute_result",
          "data": {
            "text/plain": [
              "True"
            ]
          },
          "metadata": {},
          "execution_count": 22
        }
      ],
      "source": [
        "not x > y"
      ]
    },
    {
      "cell_type": "markdown",
      "id": "fc6098c2",
      "metadata": {
        "id": "fc6098c2"
      },
      "source": [
        "Strictly speaking, the operands of a logical operator should be boolean expressions, but Python is not very strict.\n",
        "Any nonzero number is interpreted as `True`:"
      ]
    },
    {
      "cell_type": "code",
      "execution_count": 23,
      "id": "add63275",
      "metadata": {
        "colab": {
          "base_uri": "https://localhost:8080/"
        },
        "id": "add63275",
        "outputId": "c2864d98-efdd-454f-f775-895e12a2f443"
      },
      "outputs": [
        {
          "output_type": "execute_result",
          "data": {
            "text/plain": [
              "True"
            ]
          },
          "metadata": {},
          "execution_count": 23
        }
      ],
      "source": [
        "42 and True"
      ]
    },
    {
      "cell_type": "markdown",
      "id": "102ceab9",
      "metadata": {
        "id": "102ceab9"
      },
      "source": [
        "This flexibility can be useful, but there are some subtleties to it that can be confusing.\n",
        "You might want to avoid it."
      ]
    },
    {
      "cell_type": "markdown",
      "id": "6b0f2dc1",
      "metadata": {
        "id": "6b0f2dc1"
      },
      "source": [
        "## if statements\n",
        "\n",
        "In order to write useful programs, we almost always need the ability to\n",
        "check conditions and change the behavior of the program accordingly.\n",
        "**Conditional statements** give us this ability. The simplest form is\n",
        "the `if` statement:"
      ]
    },
    {
      "cell_type": "code",
      "execution_count": 24,
      "id": "80937bef",
      "metadata": {
        "colab": {
          "base_uri": "https://localhost:8080/"
        },
        "id": "80937bef",
        "outputId": "9da78331-a29e-4235-b617-50fdfbaf0865"
      },
      "outputs": [
        {
          "output_type": "stream",
          "name": "stdout",
          "text": [
            "x is positive\n"
          ]
        }
      ],
      "source": [
        "if x > 0:\n",
        "    print('x is positive')"
      ]
    },
    {
      "cell_type": "markdown",
      "id": "973f705e",
      "metadata": {
        "id": "973f705e"
      },
      "source": [
        "`if` is a Python keyword.\n",
        "`if` statements have the same structure as function definitions: a\n",
        "header followed by an indented statement or sequence of statements called a **block**.\n",
        "\n",
        "The boolean expression after `if` is called the **condition**.\n",
        "If it is true, the statements in the indented block run. If not, they don't.\n",
        "\n",
        "There is no limit to the number of statements that can appear in the block, but there has to be at least one.\n",
        "Occasionally, it is useful to have a block that does nothing -- usually as a place keeper for code you haven't written yet.\n",
        "In that case, you can use the `pass` statement, which does nothing."
      ]
    },
    {
      "cell_type": "code",
      "execution_count": 25,
      "id": "bc74a318",
      "metadata": {
        "id": "bc74a318"
      },
      "outputs": [],
      "source": [
        "if x < 0:\n",
        "    pass          # TODO: need to handle negative values!"
      ]
    },
    {
      "cell_type": "markdown",
      "id": "adf3f6c5",
      "metadata": {
        "id": "adf3f6c5"
      },
      "source": [
        "The word `TODO` in a comment is a conventional reminder that there's something you need to do later."
      ]
    },
    {
      "cell_type": "markdown",
      "id": "eb39bcd9",
      "metadata": {
        "id": "eb39bcd9"
      },
      "source": [
        "## The `else` clause\n",
        "\n",
        "An `if` statement can have a second part, called an `else` clause.\n",
        "The syntax looks like this:"
      ]
    },
    {
      "cell_type": "code",
      "execution_count": 26,
      "id": "d16f49f2",
      "metadata": {
        "colab": {
          "base_uri": "https://localhost:8080/"
        },
        "id": "d16f49f2",
        "outputId": "9e698ecf-e6c0-4e66-bcfe-4532c6c42719"
      },
      "outputs": [
        {
          "output_type": "stream",
          "name": "stdout",
          "text": [
            "x is odd\n"
          ]
        }
      ],
      "source": [
        "if x % 2 == 0:\n",
        "    print('x is even')\n",
        "else:\n",
        "    print('x is odd')"
      ]
    },
    {
      "cell_type": "markdown",
      "id": "e7dc8943",
      "metadata": {
        "id": "e7dc8943"
      },
      "source": [
        "If the condition is true, the first indented statement runs; otherwise, the second indented statement runs.\n",
        "\n",
        "In this example, if `x` is even, the remainder when `x` is divided by `2` is `0`, so the condition is true and the program displays `x is even`.\n",
        "If `x` is odd, the remainder is `1`, so the condition\n",
        "is false, and the program displays `x is odd`.\n",
        "\n",
        "Since the condition must be true or false, exactly one of the alternatives will run.\n",
        "The alternatives are called **branches**."
      ]
    },
    {
      "cell_type": "markdown",
      "id": "20c8adb6",
      "metadata": {
        "id": "20c8adb6"
      },
      "source": [
        "## Chained conditionals\n",
        "\n",
        "Sometimes there are more than two possibilities and we need more than two branches.\n",
        "One way to express a computation like that is a **chained conditional**, which includes an `elif` clause."
      ]
    },
    {
      "cell_type": "code",
      "execution_count": 27,
      "id": "309fccb8",
      "metadata": {
        "colab": {
          "base_uri": "https://localhost:8080/"
        },
        "id": "309fccb8",
        "outputId": "3735b2e9-19ca-435b-a467-7a7cb82ec417"
      },
      "outputs": [
        {
          "output_type": "stream",
          "name": "stdout",
          "text": [
            "x is less than y\n"
          ]
        }
      ],
      "source": [
        "if x < y:\n",
        "    print('x is less than y')\n",
        "elif x > y:\n",
        "    print('x is greater than y')\n",
        "else:\n",
        "    print('x and y are equal')"
      ]
    },
    {
      "cell_type": "markdown",
      "id": "46916379",
      "metadata": {
        "id": "46916379"
      },
      "source": [
        "`elif` is an abbreviation of \"else if\".\n",
        "There is no limit on the number of `elif` clauses.\n",
        "If there is an `else` clause, it has to be at the end, but there doesn't have to be\n",
        "one.\n",
        "\n",
        "Each condition is checked in order.\n",
        "If the first is false, the next is checked, and so on.\n",
        "If one of them is true, the corresponding branch runs and the `if` statement ends.\n",
        "Even if more than one condition is true, only the first true branch runs."
      ]
    },
    {
      "cell_type": "markdown",
      "id": "e0c0b9dd",
      "metadata": {
        "id": "e0c0b9dd"
      },
      "source": [
        "## Nested Conditionals\n",
        "\n",
        "One conditional can also be nested within another.\n",
        "We could have written the example in the previous section like this:"
      ]
    },
    {
      "cell_type": "code",
      "execution_count": 28,
      "id": "d77539cf",
      "metadata": {
        "colab": {
          "base_uri": "https://localhost:8080/"
        },
        "id": "d77539cf",
        "outputId": "4905cdbb-ea65-41dc-de98-a815c67d217c"
      },
      "outputs": [
        {
          "output_type": "stream",
          "name": "stdout",
          "text": [
            "x is less than y\n"
          ]
        }
      ],
      "source": [
        "if x == y:\n",
        "    print('x and y are equal')\n",
        "else:\n",
        "    if x < y:\n",
        "        print('x is less than y')\n",
        "    else:\n",
        "        print('x is greater than y')"
      ]
    },
    {
      "cell_type": "markdown",
      "id": "29f67a0a",
      "metadata": {
        "id": "29f67a0a"
      },
      "source": [
        "The outer `if` statement contains two branches.\n",
        "The first branch contains a simple statement. The second branch contains another `if` statement, which has two branches of its own.\n",
        "Those two branches are both simple statements, although they could have been conditional statements as well.\n",
        "\n",
        "Although the indentation of the statements makes the structure apparent, **nested conditionals** can be difficult to read.\n",
        "I suggest you avoid them when you can.\n",
        "\n",
        "Logical operators often provide a way to simplify nested conditional statements.\n",
        "Here's an example with a nested conditional."
      ]
    },
    {
      "cell_type": "code",
      "execution_count": 29,
      "id": "91cac1a0",
      "metadata": {
        "colab": {
          "base_uri": "https://localhost:8080/"
        },
        "id": "91cac1a0",
        "outputId": "2b253cab-f025-40e0-d796-5fa2b03e9efd"
      },
      "outputs": [
        {
          "output_type": "stream",
          "name": "stdout",
          "text": [
            "x is a positive single-digit number.\n"
          ]
        }
      ],
      "source": [
        "if 0 < x:\n",
        "    if x < 10:\n",
        "        print('x is a positive single-digit number.')"
      ]
    },
    {
      "cell_type": "markdown",
      "id": "5292eb11",
      "metadata": {
        "id": "5292eb11"
      },
      "source": [
        "The `print` statement runs only if we make it past both conditionals, so we get the same effect with the `and` operator."
      ]
    },
    {
      "cell_type": "code",
      "execution_count": 30,
      "id": "f8ba1724",
      "metadata": {
        "colab": {
          "base_uri": "https://localhost:8080/"
        },
        "id": "f8ba1724",
        "outputId": "72f43fce-6c7d-4cd3-a3b0-cc7dd51db31b"
      },
      "outputs": [
        {
          "output_type": "stream",
          "name": "stdout",
          "text": [
            "x is a positive single-digit number.\n"
          ]
        }
      ],
      "source": [
        "if 0 < x and x < 10:\n",
        "    print('x is a positive single-digit number.')"
      ]
    },
    {
      "cell_type": "markdown",
      "id": "dd8e808a",
      "metadata": {
        "id": "dd8e808a"
      },
      "source": [
        "For this kind of condition, Python provides a more concise option:"
      ]
    },
    {
      "cell_type": "code",
      "execution_count": 31,
      "id": "014cd6f4",
      "metadata": {
        "colab": {
          "base_uri": "https://localhost:8080/"
        },
        "id": "014cd6f4",
        "outputId": "43b12767-fe5a-4607-8bb9-b4e12c858e17"
      },
      "outputs": [
        {
          "output_type": "stream",
          "name": "stdout",
          "text": [
            "x is a positive single-digit number.\n"
          ]
        }
      ],
      "source": [
        "if 0 < x < 10:\n",
        "    print('x is a positive single-digit number.')"
      ]
    },
    {
      "cell_type": "markdown",
      "id": "db583cd9",
      "metadata": {
        "id": "db583cd9"
      },
      "source": [
        "## Recursion\n",
        "\n",
        "It is legal for a function to call itself.\n",
        "It may not be obvious why that is a good thing, but it turns out to be one of the most magical things a program can do.\n",
        "Here's an example."
      ]
    },
    {
      "cell_type": "code",
      "execution_count": 2,
      "id": "17904e98",
      "metadata": {
        "id": "17904e98"
      },
      "outputs": [],
      "source": [
        "def countdown(n):\n",
        "    if n <= 0:\n",
        "        print('Blastoff!')\n",
        "    else:\n",
        "        print(n)\n",
        "        countdown(n-1)"
      ]
    },
    {
      "cell_type": "markdown",
      "id": "c88e0dc7",
      "metadata": {
        "id": "c88e0dc7"
      },
      "source": [
        "If `n` is 0 or negative, `countdown` outputs the word, \"Blastoff!\" Otherwise, it\n",
        "outputs `n` and then calls itself, passing `n-1` as an argument.\n",
        "\n",
        "Here's what happens when we call this function with the argument `3`."
      ]
    },
    {
      "cell_type": "code",
      "execution_count": 33,
      "id": "6c1e32e2",
      "metadata": {
        "colab": {
          "base_uri": "https://localhost:8080/"
        },
        "id": "6c1e32e2",
        "outputId": "2c9b822a-7ce7-4de5-c224-0a8353bcde5a"
      },
      "outputs": [
        {
          "output_type": "stream",
          "name": "stdout",
          "text": [
            "3\n",
            "2\n",
            "1\n",
            "Blastoff!\n"
          ]
        }
      ],
      "source": [
        "countdown(3)"
      ]
    },
    {
      "cell_type": "markdown",
      "id": "3f3c87ec",
      "metadata": {
        "id": "3f3c87ec"
      },
      "source": [
        "The execution of `countdown` begins with `n=3`, and since `n` is greater\n",
        "than `0`, it displays `3`, and then calls itself\\...\n",
        "\n",
        "> The execution of `countdown` begins with `n=2`, and since `n` is\n",
        "> greater than `0`, it displays `2`, and then calls itself\\...\n",
        ">\n",
        "> > The execution of `countdown` begins with `n=1`, and since `n` is\n",
        "> > greater than `0`, it displays `1`, and then calls itself\\...\n",
        "> >\n",
        "> > > The execution of `countdown` begins with `n=0`, and since `n` is\n",
        "> > > not greater than `0`, it displays \"Blastoff!\" and returns.\n",
        "> >\n",
        "> > The `countdown` that got `n=1` returns.\n",
        ">\n",
        "> The `countdown` that got `n=2` returns.\n",
        "\n",
        "The `countdown` that got `n=3` returns."
      ]
    },
    {
      "cell_type": "markdown",
      "id": "782e95bb",
      "metadata": {
        "id": "782e95bb"
      },
      "source": [
        "A function that calls itself is **recursive**.\n",
        "As another example, we can write a function that prints a string `n` times."
      ]
    },
    {
      "cell_type": "code",
      "execution_count": 3,
      "id": "1bb13f8e",
      "metadata": {
        "id": "1bb13f8e"
      },
      "outputs": [],
      "source": [
        "def print_n_times(string, n):\n",
        "    if n > 0:\n",
        "        print(string)\n",
        "        print_n_times(string, n-1)"
      ]
    },
    {
      "cell_type": "markdown",
      "id": "73d07c17",
      "metadata": {
        "id": "73d07c17"
      },
      "source": [
        "If `n` is positive, `print_n_times` displays the value of `string` and then calls itself, passing along `string` and `n-1` as arguments.\n",
        "\n",
        "If `n` is `0` or negative, the condition is false and `print_n_times` does nothing.\n",
        "\n",
        "Here's how it works."
      ]
    },
    {
      "cell_type": "code",
      "execution_count": 35,
      "id": "e7b68c57",
      "metadata": {
        "colab": {
          "base_uri": "https://localhost:8080/"
        },
        "id": "e7b68c57",
        "outputId": "d4dd5df1-9d87-4e77-bc49-5184961ec2d2"
      },
      "outputs": [
        {
          "output_type": "stream",
          "name": "stdout",
          "text": [
            "Spam \n",
            "Spam \n",
            "Spam \n",
            "Spam \n"
          ]
        }
      ],
      "source": [
        "print_n_times('Spam ', 4)"
      ]
    },
    {
      "cell_type": "markdown",
      "id": "1fb55a78",
      "metadata": {
        "id": "1fb55a78"
      },
      "source": [
        "For simple examples like this, it is probably easier to use a `for`\n",
        "loop. But we will see examples later that are hard to write with a `for`\n",
        "loop and easy to write with recursion, so it is good to start early."
      ]
    },
    {
      "cell_type": "markdown",
      "id": "c652c739",
      "metadata": {
        "id": "c652c739"
      },
      "source": [
        "## Stack diagrams for recursive functions\n",
        "\n",
        "Here's a stack diagram that shows the frames created when we called `countdown` with `n = 3`."
      ]
    },
    {
      "cell_type": "code",
      "execution_count": 4,
      "id": "643148da",
      "metadata": {
        "tags": [],
        "id": "643148da"
      },
      "outputs": [],
      "source": [
        "from diagram import make_frame, Stack\n",
        "\n",
        "frames = []\n",
        "for n in [3,2,1,0]:\n",
        "    d = dict(n=n)\n",
        "    frame = make_frame(d, name='countdown', dy=-0.3, loc='left')\n",
        "    frames.append(frame)\n",
        "\n",
        "stack = Stack(frames, dy=-0.5)"
      ]
    },
    {
      "cell_type": "code",
      "execution_count": null,
      "id": "a8510119",
      "metadata": {
        "tags": [],
        "id": "a8510119"
      },
      "outputs": [],
      "source": [
        "from diagram import diagram, adjust\n",
        "\n",
        "\n",
        "width, height, x, y = [1.74, 2.04, 1.05, 1.77]\n",
        "ax = diagram(width, height)\n",
        "bbox = stack.draw(ax, x, y)\n",
        "# adjust(x, y, bbox)"
      ]
    },
    {
      "cell_type": "markdown",
      "id": "9282331b",
      "metadata": {
        "id": "9282331b"
      },
      "source": [
        "The four `countdown` frames have different values for the parameter `n`.\n",
        "The bottom of the stack, where `n=0`, is called the **base case**.\n",
        "It does not make a recursive call, so there are no more frames."
      ]
    },
    {
      "cell_type": "code",
      "execution_count": 6,
      "id": "a2a376b3",
      "metadata": {
        "tags": [],
        "colab": {
          "base_uri": "https://localhost:8080/",
          "height": 191
        },
        "id": "a2a376b3",
        "outputId": "ae1d5139-05b4-494c-f65a-32080a4d9321"
      },
      "outputs": [
        {
          "output_type": "display_data",
          "data": {
            "text/plain": [
              "<Figure size 353x154 with 1 Axes>"
            ],
            "image/png": "[encoded data removed]"
          },
          "metadata": {}
        }
      ],
      "source": [
        "from diagram import make_frame, Stack\n",
        "from diagram import diagram, adjust\n",
        "\n",
        "frames = []\n",
        "for n in [2,1,0]:\n",
        "    d = dict(string='Hello', n=n)\n",
        "    frame = make_frame(d, name='print_n_times', dx=1.3, loc='left')\n",
        "    frames.append(frame)\n",
        "\n",
        "stack = Stack(frames, dy=-0.5)\n",
        "\n",
        "width, height, x, y = [3.53, 1.54, 1.54, 1.27]\n",
        "ax = diagram(width, height)\n",
        "bbox = stack.draw(ax, x, y)\n",
        "# adjust(x, y, bbox)"
      ]
    },
    {
      "cell_type": "markdown",
      "id": "37bbc2b8",
      "metadata": {
        "id": "37bbc2b8"
      },
      "source": [
        "## Infinite recursion\n",
        "\n",
        "If a recursion never reaches a base case, it goes on making recursive\n",
        "calls forever, and the program never terminates. This is known as\n",
        "**infinite recursion**, and it is generally not a good idea.\n",
        "Here's a minimal function with an infinite recursion."
      ]
    },
    {
      "cell_type": "code",
      "execution_count": 7,
      "id": "af487feb",
      "metadata": {
        "id": "af487feb"
      },
      "outputs": [],
      "source": [
        "def recurse():\n",
        "    recurse()"
      ]
    },
    {
      "cell_type": "markdown",
      "id": "450a20ac",
      "metadata": {
        "id": "450a20ac"
      },
      "source": [
        "Every time `recurse` is called, it calls itself, which creates another frame.\n",
        "In Python, there is a limit to the number of frames that can be on the stack at the same time.\n",
        "If a program exceeds the limit, it causes a runtime error."
      ]
    },
    {
      "cell_type": "code",
      "execution_count": 40,
      "id": "e5d6c732",
      "metadata": {
        "tags": [],
        "colab": {
          "base_uri": "https://localhost:8080/"
        },
        "id": "e5d6c732",
        "outputId": "c4d99b6e-2c68-4156-f638-cf171cf6a81c"
      },
      "outputs": [
        {
          "output_type": "stream",
          "name": "stdout",
          "text": [
            "Exception reporting mode: Context\n"
          ]
        }
      ],
      "source": [
        "%xmode Context"
      ]
    },
    {
      "cell_type": "code",
      "execution_count": 41,
      "id": "22454b51",
      "metadata": {
        "tags": [],
        "colab": {
          "base_uri": "https://localhost:8080/",
          "height": 269
        },
        "id": "22454b51",
        "outputId": "edf2b983-6a50-4abf-ec76-cad538fd9e52"
      },
      "outputs": [
        {
          "output_type": "error",
          "ename": "RecursionError",
          "evalue": "maximum recursion depth exceeded",
          "traceback": [
            "\u001b[0;31m---------------------------------------------------------------------------\u001b[0m",
            "\u001b[0;31mRecursionError\u001b[0m                            Traceback (most recent call last)",
            "\u001b[0;32m<ipython-input-41-b67bdaf44d76>\u001b[0m in \u001b[0;36m<cell line: 1>\u001b[0;34m()\u001b[0m\n\u001b[0;32m----> 1\u001b[0;31m \u001b[0mrecurse\u001b[0m\u001b[0;34m(\u001b[0m\u001b[0;34m)\u001b[0m\u001b[0;34m\u001b[0m\u001b[0;34m\u001b[0m\u001b[0m\n\u001b[0m",
            "\u001b[0;32m<ipython-input-39-65db32425da2>\u001b[0m in \u001b[0;36mrecurse\u001b[0;34m()\u001b[0m\n\u001b[1;32m      1\u001b[0m \u001b[0;32mdef\u001b[0m \u001b[0mrecurse\u001b[0m\u001b[0;34m(\u001b[0m\u001b[0;34m)\u001b[0m\u001b[0;34m:\u001b[0m\u001b[0;34m\u001b[0m\u001b[0;34m\u001b[0m\u001b[0m\n\u001b[0;32m----> 2\u001b[0;31m     \u001b[0mrecurse\u001b[0m\u001b[0;34m(\u001b[0m\u001b[0;34m)\u001b[0m\u001b[0;34m\u001b[0m\u001b[0;34m\u001b[0m\u001b[0m\n\u001b[0m",
            "... last 1 frames repeated, from the frame below ...\n",
            "\u001b[0;32m<ipython-input-39-65db32425da2>\u001b[0m in \u001b[0;36mrecurse\u001b[0;34m()\u001b[0m\n\u001b[1;32m      1\u001b[0m \u001b[0;32mdef\u001b[0m \u001b[0mrecurse\u001b[0m\u001b[0;34m(\u001b[0m\u001b[0;34m)\u001b[0m\u001b[0;34m:\u001b[0m\u001b[0;34m\u001b[0m\u001b[0;34m\u001b[0m\u001b[0m\n\u001b[0;32m----> 2\u001b[0;31m     \u001b[0mrecurse\u001b[0m\u001b[0;34m(\u001b[0m\u001b[0;34m)\u001b[0m\u001b[0;34m\u001b[0m\u001b[0;34m\u001b[0m\u001b[0m\n\u001b[0m",
            "\u001b[0;31mRecursionError\u001b[0m: maximum recursion depth exceeded"
          ]
        }
      ],
      "source": [
        "%%expect RecursionError\n",
        "\n",
        "recurse()"
      ]
    },
    {
      "cell_type": "markdown",
      "id": "39fc5c31",
      "metadata": {
        "id": "39fc5c31"
      },
      "source": [
        "The traceback indicates that there were almost 3000 frames on the stack when the error occurred.\n",
        "\n",
        "If you encounter an infinite recursion by accident, review your function to confirm that there is a base case that does not make a recursive call. And if there is a base case, check whether you are guaranteed to reach it."
      ]
    },
    {
      "cell_type": "markdown",
      "id": "45299414",
      "metadata": {
        "id": "45299414"
      },
      "source": [
        "## Keyboard input\n",
        "\n",
        "The programs we have written so far accept no input from the user. They\n",
        "just do the same thing every time.\n",
        "\n",
        "Python provides a built-in function called `input` that stops the\n",
        "program and waits for the user to type something. When the user presses\n",
        "*Return* or *Enter*, the program resumes and `input` returns what the user\n",
        "typed as a string."
      ]
    },
    {
      "cell_type": "code",
      "execution_count": null,
      "id": "ac0fb4a6",
      "metadata": {
        "tags": [],
        "id": "ac0fb4a6"
      },
      "outputs": [],
      "source": [
        "# Solution goes here"
      ]
    },
    {
      "cell_type": "code",
      "execution_count": 8,
      "id": "f6a2e4d6",
      "metadata": {
        "colab": {
          "base_uri": "https://localhost:8080/",
          "height": 54
        },
        "id": "f6a2e4d6",
        "outputId": "816d5263-a8e3-4d7b-a39e-58522096284b"
      },
      "outputs": [
        {
          "output_type": "error",
          "ename": "KeyboardInterrupt",
          "evalue": "Interrupted by user",
          "traceback": [
            "\u001b[0;31mKeyboardInterrupt\u001b[0m\u001b[0;31m:\u001b[0m Interrupted by user\n"
          ]
        }
      ],
      "source": [
        "text = input()"
      ]
    },
    {
      "cell_type": "markdown",
      "id": "acf9ec53",
      "metadata": {
        "id": "acf9ec53"
      },
      "source": [
        "Before getting input from the user, you might want to display a prompt\n",
        "telling the user what to type. `input` can take a prompt as an argument:"
      ]
    },
    {
      "cell_type": "code",
      "execution_count": null,
      "id": "e0600e5e",
      "metadata": {
        "tags": [],
        "id": "e0600e5e"
      },
      "outputs": [],
      "source": [
        "# Solution goes here"
      ]
    },
    {
      "cell_type": "code",
      "execution_count": null,
      "id": "964346f0",
      "metadata": {
        "id": "964346f0"
      },
      "outputs": [],
      "source": [
        "name = input('What...is your name?\\n')\n",
        "name"
      ]
    },
    {
      "cell_type": "markdown",
      "id": "1b754b39",
      "metadata": {
        "id": "1b754b39"
      },
      "source": [
        "The sequence `\\n` at the end of the prompt represents a **newline**, which is a special character that causes a line break -- that way the user's input appears below the prompt.\n",
        "\n",
        "If you expect the user to type an integer, you can use the `int` function to convert the return value to `int`."
      ]
    },
    {
      "cell_type": "code",
      "execution_count": null,
      "id": "590983cd",
      "metadata": {
        "tags": [],
        "id": "590983cd"
      },
      "outputs": [],
      "source": [
        "# Solution goes here"
      ]
    },
    {
      "cell_type": "code",
      "execution_count": 47,
      "id": "60a484d7",
      "metadata": {
        "colab": {
          "base_uri": "https://localhost:8080/",
          "height": 70
        },
        "id": "60a484d7",
        "outputId": "403a5065-a635-46ce-8bda-0e519091a3d3"
      },
      "outputs": [
        {
          "name": "stdout",
          "output_type": "stream",
          "text": [
            "What...is the airspeed velocity of an unladen swallow?\n",
            "6\n"
          ]
        },
        {
          "output_type": "execute_result",
          "data": {
            "text/plain": [
              "'6'"
            ],
            "application/vnd.google.colaboratory.intrinsic+json": {
              "type": "string"
            }
          },
          "metadata": {},
          "execution_count": 47
        }
      ],
      "source": [
        "prompt = 'What...is the airspeed velocity of an unladen swallow?\\n'\n",
        "speed = input(prompt)\n",
        "speed"
      ]
    },
    {
      "cell_type": "markdown",
      "id": "0a65f2af",
      "metadata": {
        "id": "0a65f2af"
      },
      "source": [
        "But if they type something that's not an integer, you'll get a runtime error."
      ]
    },
    {
      "cell_type": "code",
      "execution_count": 45,
      "id": "8d3d6049",
      "metadata": {
        "tags": [],
        "colab": {
          "base_uri": "https://localhost:8080/"
        },
        "id": "8d3d6049",
        "outputId": "d9a3d45d-fc10-4431-9fc1-8f477c4b26df"
      },
      "outputs": [
        {
          "output_type": "stream",
          "name": "stdout",
          "text": [
            "Exception reporting mode: Minimal\n"
          ]
        }
      ],
      "source": [
        "%xmode Minimal"
      ]
    },
    {
      "cell_type": "code",
      "execution_count": 48,
      "id": "a04e3016",
      "metadata": {
        "tags": [],
        "colab": {
          "base_uri": "https://localhost:8080/"
        },
        "id": "a04e3016",
        "outputId": "6e25872f-e9d4-4b57-f544-4ec5cdd25273"
      },
      "outputs": [
        {
          "output_type": "execute_result",
          "data": {
            "text/plain": [
              "6"
            ]
          },
          "metadata": {},
          "execution_count": 48
        }
      ],
      "source": [
        "%%expect ValueError\n",
        "\n",
        "int(speed)"
      ]
    },
    {
      "cell_type": "markdown",
      "id": "a4ce3ed5",
      "metadata": {
        "id": "a4ce3ed5"
      },
      "source": [
        "We will see how to handle this kind of error later."
      ]
    },
    {
      "cell_type": "markdown",
      "id": "14c1d3dc",
      "metadata": {
        "id": "14c1d3dc"
      },
      "source": [
        "## Debugging\n",
        "\n",
        "When a syntax or runtime error occurs, the error message contains a lot\n",
        "of information, but it can be overwhelming. The most useful parts are\n",
        "usually:\n",
        "\n",
        "-   What kind of error it was, and\n",
        "\n",
        "-   Where it occurred.\n",
        "\n",
        "Syntax errors are usually easy to find, but there are a few gotchas.\n",
        "Errors related to spaces and tabs can be tricky because they are invisible\n",
        "and we are used to ignoring them."
      ]
    },
    {
      "cell_type": "code",
      "execution_count": 49,
      "id": "b82642f6",
      "metadata": {
        "tags": [],
        "colab": {
          "base_uri": "https://localhost:8080/",
          "height": 106
        },
        "id": "b82642f6",
        "outputId": "5d300242-9433-4c84-a9d9-99c197def678"
      },
      "outputs": [
        {
          "output_type": "error",
          "ename": "IndentationError",
          "evalue": "unexpected indent (<ipython-input-49-33618411f379>, line 2)",
          "traceback": [
            "\u001b[0;36m  File \u001b[0;32m\"<ipython-input-49-33618411f379>\"\u001b[0;36m, line \u001b[0;32m2\u001b[0m\n\u001b[0;31m    y = 6\u001b[0m\n\u001b[0m    ^\u001b[0m\n\u001b[0;31mIndentationError\u001b[0m\u001b[0;31m:\u001b[0m unexpected indent\n"
          ]
        }
      ],
      "source": [
        "%%expect IndentationError\n",
        "x = 5\n",
        " y = 6"
      ]
    },
    {
      "cell_type": "markdown",
      "id": "d1d06263",
      "metadata": {
        "id": "d1d06263"
      },
      "source": [
        "In this example, the problem is that the second line is indented by one space.\n",
        "But the error message points to `y`, which is misleading.\n",
        "Error messages indicate where the problem was discovered, but the actual error might be earlier in the code.\n",
        "\n",
        "The same is true of runtime errors.\n",
        "For example, suppose you are trying to convert a ratio to decibels, like this:"
      ]
    },
    {
      "cell_type": "code",
      "execution_count": 50,
      "id": "583ef53c",
      "metadata": {
        "tags": [],
        "colab": {
          "base_uri": "https://localhost:8080/"
        },
        "id": "583ef53c",
        "outputId": "9b6304cf-7518-45eb-9c6c-856da9c0d013"
      },
      "outputs": [
        {
          "output_type": "stream",
          "name": "stdout",
          "text": [
            "Exception reporting mode: Context\n"
          ]
        }
      ],
      "source": [
        "%xmode Context"
      ]
    },
    {
      "cell_type": "code",
      "execution_count": 9,
      "id": "2f4b6082",
      "metadata": {
        "tags": [],
        "colab": {
          "base_uri": "https://localhost:8080/",
          "height": 54
        },
        "id": "2f4b6082",
        "outputId": "dd6908eb-a23d-44df-8201-fe12169fb1fd"
      },
      "outputs": [
        {
          "output_type": "error",
          "ename": "ValueError",
          "evalue": "math domain error",
          "traceback": [
            "\u001b[0;31mValueError\u001b[0m\u001b[0;31m:\u001b[0m math domain error\n"
          ]
        }
      ],
      "source": [
        "%%expect ValueError\n",
        "import math\n",
        "numerator = 9\n",
        "denominator = 10\n",
        "ratio = numerator // denominator\n",
        "decibels = 10 * math.log10(ratio)"
      ]
    },
    {
      "cell_type": "markdown",
      "id": "55914374",
      "metadata": {
        "id": "55914374"
      },
      "source": [
        "The error message indicates line 5, but there is nothing wrong with that line.\n",
        "The problem is in line 4, which uses integer division instead of floating-point division -- as a result, the value of `ratio` is `0`.\n",
        "When we call `math.log10`, we get a `ValueError` with the message `math domain error`, because `0` is not in the \"domain\" of valid arguments for `math.log10`, because the logarithm of `0` is undefined.\n",
        "\n",
        "In general, you should take the time to read error messages carefully, but don't assume that everything they say is correct."
      ]
    },
    {
      "cell_type": "markdown",
      "id": "8ffe690e",
      "metadata": {
        "id": "8ffe690e"
      },
      "source": [
        "## Glossary\n",
        "\n",
        "**recursion:**\n",
        "The process of calling the function that is currently executing.\n",
        "\n",
        "**modulus operator:**\n",
        "An operator, `%`, that works on integers and returns the remainder when one number is divided by another.\n",
        "\n",
        "**boolean expression:**\n",
        "An expression whose value is either `True` or `False`.\n",
        "\n",
        "**relational operator:**\n",
        "One of the operators that compares its operands: `==`, `!=`, `>`, `<`, `>=`, and `<=`.\n",
        "\n",
        "**logical operator:**\n",
        "One of the operators that combines boolean expressions, including `and`, `or`, and `not`.\n",
        "\n",
        "**conditional statement:**\n",
        "A statement that controls the flow of execution depending on some condition.\n",
        "\n",
        "**condition:**\n",
        "The boolean expression in a conditional statement that determines which branch runs.\n",
        "\n",
        "**block:**\n",
        "One or more statements indented to indicate they are part of another statement.\n",
        "\n",
        "**branch:**\n",
        "One of the alternative sequences of statements in a conditional statement.\n",
        "\n",
        "**chained conditional:**\n",
        "A conditional statement with a series of alternative branches.\n",
        "\n",
        "**nested conditional:**\n",
        "A conditional statement that appears in one of the branches of another conditional statement.\n",
        "\n",
        "**recursive:**\n",
        "A function that calls itself is recursive.\n",
        "\n",
        "**base case:**\n",
        "A conditional branch in a recursive function that does not make a recursive call.\n",
        "\n",
        "**infinite recursion:**\n",
        "A recursion that doesn't have a base case, or never reaches it.\n",
        "Eventually, an infinite recursion causes a runtime error.\n",
        "\n",
        "**newline:**\n",
        "A character that creates a line break between two parts of a string."
      ]
    },
    {
      "cell_type": "markdown",
      "id": "8d783953",
      "metadata": {
        "id": "8d783953"
      },
      "source": [
        "## Exercises"
      ]
    },
    {
      "cell_type": "code",
      "execution_count": 10,
      "id": "66aae3cb",
      "metadata": {
        "tags": [],
        "colab": {
          "base_uri": "https://localhost:8080/"
        },
        "id": "66aae3cb",
        "outputId": "d51d6b30-3de7-4613-dbd1-e6e6831e8a38"
      },
      "outputs": [
        {
          "output_type": "stream",
          "name": "stdout",
          "text": [
            "Exception reporting mode: Verbose\n"
          ]
        }
      ],
      "source": [
        "# This cell tells Jupyter to provide detailed debugging information\n",
        "# when a runtime error occurs. Run it before working on the exercises.\n",
        "\n",
        "%xmode Verbose"
      ]
    },
    {
      "cell_type": "markdown",
      "id": "02f9f1d7",
      "metadata": {
        "id": "02f9f1d7"
      },
      "source": [
        "### Ask a virtual assistant\n",
        "\n",
        "* Ask a virtual assistant, \"What are some uses of the modulus operator?\"\n",
        "\n",
        "* Python provides operators to compute the logical operations `and`, `or`, and `not`, but it doesn't have an operator that computes the exclusive `or` operation, usually written `xor`. Ask an assistant \"What is the logical xor operation and how do I compute it in Python?\"\n",
        "\n",
        "In this chapter, we saw two ways to write an `if` statement with three branches, using a chained conditional or a nested conditional.\n",
        "You can use a virtual assistant to convert from one to the other.\n",
        "For example, ask a VA, \"Convert this statement to a chained conditional.\""
      ]
    },
    {
      "cell_type": "code",
      "execution_count": 52,
      "id": "ade1ecb4",
      "metadata": {
        "tags": [],
        "id": "ade1ecb4"
      },
      "outputs": [],
      "source": [
        "x = 5\n",
        "y = 7"
      ]
    },
    {
      "cell_type": "code",
      "execution_count": 11,
      "id": "dc7026c2",
      "metadata": {
        "colab": {
          "base_uri": "https://localhost:8080/"
        },
        "id": "dc7026c2",
        "outputId": "9084fb64-eaa7-43f7-9c96-25f87a6b972a"
      },
      "outputs": [
        {
          "output_type": "stream",
          "name": "stdout",
          "text": [
            "x is greater than y\n"
          ]
        }
      ],
      "source": [
        "if x == y:\n",
        "    print('x and y are equal')\n",
        "else:\n",
        "    if x < y:\n",
        "        print('x is less than y')\n",
        "    else:\n",
        "        print('x is greater than y')"
      ]
    },
    {
      "cell_type": "markdown",
      "id": "9c2a8466",
      "metadata": {
        "id": "9c2a8466"
      },
      "source": [
        "Ask a VA, \"Rewrite this statement with a single conditional.\""
      ]
    },
    {
      "cell_type": "code",
      "execution_count": 54,
      "id": "1fd919ea",
      "metadata": {
        "colab": {
          "base_uri": "https://localhost:8080/"
        },
        "id": "1fd919ea",
        "outputId": "597fb6e9-4386-4582-c201-4df037c923f9"
      },
      "outputs": [
        {
          "output_type": "stream",
          "name": "stdout",
          "text": [
            "x is a positive single-digit number.\n"
          ]
        }
      ],
      "source": [
        "if 0 < x:\n",
        "    if x < 10:\n",
        "        print('x is a positive single-digit number.')"
      ]
    },
    {
      "cell_type": "markdown",
      "id": "e0fbed08",
      "metadata": {
        "id": "e0fbed08"
      },
      "source": [
        "See if a VA can simplify this unnecessary complexity."
      ]
    },
    {
      "cell_type": "code",
      "execution_count": 55,
      "id": "1e71702e",
      "metadata": {
        "colab": {
          "base_uri": "https://localhost:8080/"
        },
        "id": "1e71702e",
        "outputId": "e7d11374-9079-497b-f278-c9de8fd0f8bc"
      },
      "outputs": [
        {
          "output_type": "stream",
          "name": "stdout",
          "text": [
            "x is a positive single-digit number.\n"
          ]
        }
      ],
      "source": [
        "if not x <= 0 and not x >= 10:\n",
        "    print('x is a positive single-digit number.')"
      ]
    },
    {
      "cell_type": "markdown",
      "id": "74ef776d",
      "metadata": {
        "id": "74ef776d"
      },
      "source": [
        "Here's an attempt at a recursive function that counts down by two."
      ]
    },
    {
      "cell_type": "code",
      "execution_count": 12,
      "id": "84cbd5a4",
      "metadata": {
        "id": "84cbd5a4"
      },
      "outputs": [],
      "source": [
        "def countdown_by_two(n):\n",
        "    if n == 0:\n",
        "        print('Blastoff!')\n",
        "    else:\n",
        "        print(n)\n",
        "        countdown_by_two(n-2)"
      ]
    },
    {
      "cell_type": "markdown",
      "id": "77178e79",
      "metadata": {
        "id": "77178e79"
      },
      "source": [
        "It seems to work."
      ]
    },
    {
      "cell_type": "code",
      "execution_count": 13,
      "id": "b0918789",
      "metadata": {
        "colab": {
          "base_uri": "https://localhost:8080/"
        },
        "id": "b0918789",
        "outputId": "1be71513-db5e-4d75-9772-ac54b0ab63bd"
      },
      "outputs": [
        {
          "output_type": "stream",
          "name": "stdout",
          "text": [
            "6\n",
            "4\n",
            "2\n",
            "Blastoff!\n"
          ]
        }
      ],
      "source": [
        "countdown_by_two(6)"
      ]
    },
    {
      "cell_type": "markdown",
      "id": "c9d3a8dc",
      "metadata": {
        "id": "c9d3a8dc"
      },
      "source": [
        "But it has an error. Ask a virtual assistant what's wrong and how to fix it.\n",
        "Paste the solution it provides back here and test it."
      ]
    },
    {
      "cell_type": "markdown",
      "id": "240a3888",
      "metadata": {
        "id": "240a3888"
      },
      "source": [
        "### Exercise\n",
        "\n",
        "The `time` module provides a function, also called `time`, that returns\n",
        "returns the number of seconds since the \"Unix epoch\", which is January 1, 1970, 00:00:00 UTC (Coordinated Universal Time)."
      ]
    },
    {
      "cell_type": "code",
      "execution_count": 14,
      "id": "1e7a2c07",
      "metadata": {
        "colab": {
          "base_uri": "https://localhost:8080/"
        },
        "id": "1e7a2c07",
        "outputId": "201309c7-2dc4-409f-9547-c0e4664e372f"
      },
      "outputs": [
        {
          "output_type": "execute_result",
          "data": {
            "text/plain": [
              "1736691361.6808212"
            ]
          },
          "metadata": {},
          "execution_count": 14
        }
      ],
      "source": [
        "from time import time\n",
        "\n",
        "now = time()\n",
        "now"
      ]
    },
    {
      "cell_type": "markdown",
      "id": "054c3197",
      "metadata": {
        "id": "054c3197"
      },
      "source": [
        "Use integer division and the modulus operator to compute the number of days since January 1, 1970 and the current time of day in hours, minutes, and seconds."
      ]
    },
    {
      "cell_type": "markdown",
      "id": "310196ba",
      "metadata": {
        "tags": [],
        "id": "310196ba"
      },
      "source": [
        "You can read more about the `time` module at <https://docs.python.org/3/library/time.html>."
      ]
    },
    {
      "cell_type": "code",
      "execution_count": 15,
      "id": "c5fa57b2",
      "metadata": {
        "colab": {
          "base_uri": "https://localhost:8080/"
        },
        "id": "c5fa57b2",
        "outputId": "3d9845bb-47e2-4428-9602-6fd7757c898b"
      },
      "outputs": [
        {
          "output_type": "stream",
          "name": "stdout",
          "text": [
            "20100.0\n"
          ]
        }
      ],
      "source": [
        "# Solution goes here\n",
        "numDays = (now-5*60*60) // (60 * 60 * 24)\n",
        "print(numDays)"
      ]
    },
    {
      "cell_type": "code",
      "execution_count": 16,
      "id": "322ddd0a",
      "metadata": {
        "colab": {
          "base_uri": "https://localhost:8080/"
        },
        "id": "322ddd0a",
        "outputId": "d663f649-91fd-44cc-a002-5c8c8a520082"
      },
      "outputs": [
        {
          "output_type": "execute_result",
          "data": {
            "text/plain": [
              "33361.68082118034"
            ]
          },
          "metadata": {},
          "execution_count": 16
        }
      ],
      "source": [
        "# Solution goes here\n",
        "secs = (now-5*60*60) - numDays*24*60*60\n",
        "secs"
      ]
    },
    {
      "cell_type": "code",
      "execution_count": 17,
      "id": "fc43df7d",
      "metadata": {
        "colab": {
          "base_uri": "https://localhost:8080/"
        },
        "id": "fc43df7d",
        "outputId": "06bb002c-4a83-4cba-d9d7-ddfabe5e020b"
      },
      "outputs": [
        {
          "output_type": "stream",
          "name": "stdout",
          "text": [
            "The time is 9:16:1.680821180343628 in EST\n"
          ]
        }
      ],
      "source": [
        "# Solution goes here\n",
        "hrs = int(secs/3600)\n",
        "hrs\n",
        "mins = int(secs/60) - 60*hrs\n",
        "s = secs - 60*60*hrs - 60*mins\n",
        "print(\"The time is \" + str(hrs) + \":\" + str(mins) + \":\" + str(s) + \" in EST\")"
      ]
    },
    {
      "cell_type": "code",
      "execution_count": null,
      "id": "0184d21a",
      "metadata": {
        "id": "0184d21a"
      },
      "outputs": [],
      "source": [
        "# Solution goes here"
      ]
    },
    {
      "cell_type": "markdown",
      "id": "6b1fd514",
      "metadata": {
        "id": "6b1fd514"
      },
      "source": [
        "### Exercise\n",
        "\n",
        "If you are given three sticks, you may or may not be able to arrange\n",
        "them in a triangle. For example, if one of the sticks is 12 inches long\n",
        "and the other two are one inch long, you will not be able to get the\n",
        "short sticks to meet in the middle. For any three lengths, there is a\n",
        "test to see if it is possible to form a triangle:\n",
        "\n",
        "> If any of the three lengths is greater than the sum of the other two,\n",
        "> then you cannot form a triangle. Otherwise, you can. (If the sum of\n",
        "> two lengths equals the third, they form what is called a \"degenerate\"\n",
        "> triangle.)\n",
        "\n",
        "Write a function named `is_triangle` that takes three integers as\n",
        "arguments, and that prints either \"Yes\" or \"No\", depending on\n",
        "whether you can or cannot form a triangle from sticks with the given\n",
        "lengths. Hint: Use a chained conditional.\n",
        "\n"
      ]
    },
    {
      "cell_type": "code",
      "execution_count": 18,
      "id": "06381639",
      "metadata": {
        "tags": [],
        "id": "06381639"
      },
      "outputs": [],
      "source": [
        "# Solution goes here\n",
        "def is_triangle(a, b, c):\n",
        "    if a > b + c:\n",
        "        print(\"No\")\n",
        "    elif b > a + c:\n",
        "        print(\"No\")\n",
        "    elif c > a + b:\n",
        "        print(\"No\")"
      ]
    },
    {
      "cell_type": "markdown",
      "id": "2842401c",
      "metadata": {
        "tags": [],
        "id": "2842401c"
      },
      "source": [
        "Test your function with the following cases."
      ]
    },
    {
      "cell_type": "code",
      "execution_count": 19,
      "id": "156273af",
      "metadata": {
        "tags": [],
        "id": "156273af"
      },
      "outputs": [],
      "source": [
        "is_triangle(4, 5, 6)   # should be Yes"
      ]
    },
    {
      "cell_type": "code",
      "execution_count": 20,
      "id": "e00793f4",
      "metadata": {
        "tags": [],
        "id": "e00793f4"
      },
      "outputs": [],
      "source": [
        "is_triangle(1, 2, 3)   # should be Yes"
      ]
    },
    {
      "cell_type": "code",
      "execution_count": 21,
      "id": "d2911c71",
      "metadata": {
        "tags": [],
        "colab": {
          "base_uri": "https://localhost:8080/"
        },
        "id": "d2911c71",
        "outputId": "500b6a02-45fa-41d1-db96-a119f70ede1e"
      },
      "outputs": [
        {
          "output_type": "stream",
          "name": "stdout",
          "text": [
            "No\n"
          ]
        }
      ],
      "source": [
        "is_triangle(6, 2, 3)   # should be No"
      ]
    },
    {
      "cell_type": "code",
      "execution_count": 22,
      "id": "2b05586e",
      "metadata": {
        "tags": [],
        "colab": {
          "base_uri": "https://localhost:8080/"
        },
        "id": "2b05586e",
        "outputId": "255a519c-46b8-490d-e647-18f16d576d95"
      },
      "outputs": [
        {
          "output_type": "stream",
          "name": "stdout",
          "text": [
            "No\n"
          ]
        }
      ],
      "source": [
        "is_triangle(1, 1, 12)   # should be No"
      ]
    },
    {
      "cell_type": "markdown",
      "id": "2ba42106",
      "metadata": {
        "id": "2ba42106"
      },
      "source": [
        "### Exercise\n",
        "\n",
        "What is the output of the following program? Draw a stack diagram that\n",
        "shows the state of the program when it prints the result."
      ]
    },
    {
      "cell_type": "code",
      "execution_count": 23,
      "id": "dac374ad",
      "metadata": {
        "colab": {
          "base_uri": "https://localhost:8080/"
        },
        "id": "dac374ad",
        "outputId": "8f6354cd-caf4-4ace-f222-f380cccc2616"
      },
      "outputs": [
        {
          "output_type": "stream",
          "name": "stdout",
          "text": [
            "6\n"
          ]
        }
      ],
      "source": [
        "def recurse(n, s):\n",
        "    if n == 0:\n",
        "        print(s)\n",
        "    else:\n",
        "        recurse(n-1, n+s)\n",
        "\n",
        "recurse(3, 0)"
      ]
    },
    {
      "cell_type": "code",
      "execution_count": 24,
      "id": "a438cec5",
      "metadata": {
        "colab": {
          "base_uri": "https://localhost:8080/"
        },
        "id": "a438cec5",
        "outputId": "d56cbb19-5be5-4007-c6a4-fe825d6bf20c"
      },
      "outputs": [
        {
          "output_type": "stream",
          "name": "stdout",
          "text": [
            "6\n",
            "6\n",
            "6\n",
            "6\n"
          ]
        }
      ],
      "source": [
        "# Solution goes here\n",
        "recurse(0, 6)\n",
        "recurse(1, 5)\n",
        "recurse(2, 3)\n",
        "recurse(3, 0)"
      ]
    },
    {
      "cell_type": "code",
      "execution_count": null,
      "id": "2e3f56c7",
      "metadata": {
        "tags": [],
        "id": "2e3f56c7"
      },
      "outputs": [],
      "source": [
        "# Solution goes here"
      ]
    },
    {
      "cell_type": "markdown",
      "id": "bca9517d",
      "metadata": {
        "id": "bca9517d"
      },
      "source": [
        "### Exercise\n",
        "\n",
        "The following exercises use the `jupyturtle` module, described in Chapter 4.\n",
        "\n",
        "Read the following function and see if you can figure out what it does.\n",
        "Then run it and see if you got it right.\n",
        "Adjust the values of `length`, `angle` and `factor` and see what effect they have on the result.\n",
        "If you are not sure you understand how it works, try asking a virtual assistant."
      ]
    },
    {
      "cell_type": "code",
      "execution_count": 33,
      "id": "2b0d60a1",
      "metadata": {
        "id": "2b0d60a1"
      },
      "outputs": [],
      "source": [
        "from jupyturtle import forward, left, right, back\n",
        "\n",
        "def draw(length):\n",
        "    angle = 50\n",
        "    factor = 0.6\n",
        "\n",
        "    if length > 5:\n",
        "        forward(length)\n",
        "        left(angle)\n",
        "        draw(factor * length)\n",
        "        right(2 * angle)\n",
        "        draw(factor * length)\n",
        "        left(angle)\n",
        "        back(length)"
      ]
    },
    {
      "cell_type": "code",
      "execution_count": 27,
      "id": "ef0256ee",
      "metadata": {
        "colab": {
          "base_uri": "https://localhost:8080/",
          "height": 171
        },
        "id": "ef0256ee",
        "outputId": "f4526e5c-fb81-494d-afb9-2fc43a07c585"
      },
      "outputs": [
        {
          "output_type": "display_data",
          "data": {
            "text/plain": [
              "<IPython.core.display.HTML object>"
            ],
            "text/html": [
              "<svg width=\"300\" height=\"150\">\n",
              "    <rect width=\"100%\" height=\"100%\" fill=\"#F3F3F7\" />\n",
              "\n",
              "<line x1=\"150\" y1=\"75\" x2=\"160.0\" y2=\"75.0\"\n",
              "    stroke=\"#663399\" stroke-width=\"2\" />\n",
              "<line x1=\"160.0\" y1=\"75.0\" x2=\"163.9\" y2=\"70.4\"\n",
              "    stroke=\"#663399\" stroke-width=\"2\" />\n",
              "<line x1=\"163.9\" y1=\"70.4\" x2=\"160.0\" y2=\"75.0\"\n",
              "    stroke=\"#663399\" stroke-width=\"2\" />\n",
              "<line x1=\"160.0\" y1=\"75.0\" x2=\"163.9\" y2=\"79.6\"\n",
              "    stroke=\"#663399\" stroke-width=\"2\" />\n",
              "<line x1=\"163.9\" y1=\"79.6\" x2=\"160.0\" y2=\"75.0\"\n",
              "    stroke=\"#663399\" stroke-width=\"2\" />\n",
              "<line x1=\"160.0\" y1=\"75.0\" x2=\"150.0\" y2=\"75.0\"\n",
              "    stroke=\"#663399\" stroke-width=\"2\" />\n",
              "<line x1=\"150.0\" y1=\"75.0\" x2=\"160.0\" y2=\"75.0\"\n",
              "    stroke=\"#663399\" stroke-width=\"2\" />\n",
              "<line x1=\"160.0\" y1=\"75.0\" x2=\"163.9\" y2=\"70.4\"\n",
              "    stroke=\"#663399\" stroke-width=\"2\" />\n",
              "<line x1=\"163.9\" y1=\"70.4\" x2=\"160.0\" y2=\"75.0\"\n",
              "    stroke=\"#663399\" stroke-width=\"2\" />\n",
              "<line x1=\"160.0\" y1=\"75.0\" x2=\"163.9\" y2=\"79.6\"\n",
              "    stroke=\"#663399\" stroke-width=\"2\" />\n",
              "<line x1=\"163.9\" y1=\"79.6\" x2=\"160.0\" y2=\"75.0\"\n",
              "    stroke=\"#663399\" stroke-width=\"2\" />\n",
              "<line x1=\"160.0\" y1=\"75.0\" x2=\"150.0\" y2=\"75.0\"\n",
              "    stroke=\"#663399\" stroke-width=\"2\" />\n",
              "\n",
              "<g transform=\"rotate(-90.0,150.0,75.0) translate(150.0, 75.0)\">\n",
              "    <circle stroke=\"#63A375\" stroke-width=\"2\" fill=\"transparent\" r=\"5.5\" cx=\"0\" cy=\"0\"/>\n",
              "    <polygon points=\"0,12 2,9 -2,9\" style=\"fill:#63A375;stroke:#63A375;stroke-width:2\"/>\n",
              "</g>\n",
              "\n",
              "</svg>"
            ]
          },
          "metadata": {}
        }
      ],
      "source": [
        "# Solution goes here\n",
        "draw(10)"
      ]
    },
    {
      "cell_type": "markdown",
      "id": "e525ba59",
      "metadata": {
        "id": "e525ba59"
      },
      "source": [
        "### Exercise\n",
        "\n",
        "Ask a virtual assistant \"What is the Koch curve?\"\n",
        "\n",
        "To draw a Koch curve with length `x`, all you\n",
        "have to do is\n",
        "\n",
        "1.  Draw a Koch curve with length `x/3`.\n",
        "\n",
        "2.  Turn left 60 degrees.\n",
        "\n",
        "3.  Draw a Koch curve with length `x/3`.\n",
        "\n",
        "4.  Turn right 120 degrees.\n",
        "\n",
        "5.  Draw a Koch curve with length `x/3`.\n",
        "\n",
        "6.  Turn left 60 degrees.\n",
        "\n",
        "7.  Draw a Koch curve with length `x/3`.\n",
        "\n",
        "The exception is if `x` is less than `5` -- in that case, you can just draw a straight line with length `x`.\n",
        "\n",
        "Write a function called `koch` that takes `x` as an argument and draws a Koch curve with the given length.\n"
      ]
    },
    {
      "cell_type": "code",
      "execution_count": 40,
      "id": "c1acc853",
      "metadata": {
        "id": "c1acc853"
      },
      "outputs": [],
      "source": [
        "# Solution goes here\n",
        "def koch(x):\n",
        "    if x < 5:\n",
        "        forward(x)\n",
        "    else:\n",
        "        koch(x/3)\n",
        "        left(60)\n",
        "        koch(x/3)\n",
        "        right(120)\n",
        "        koch(x/3)\n",
        "        left(60)\n",
        "        koch(x/3)"
      ]
    },
    {
      "cell_type": "markdown",
      "id": "2991143a",
      "metadata": {
        "id": "2991143a"
      },
      "source": [
        "The result should look like this:"
      ]
    },
    {
      "cell_type": "code",
      "execution_count": 41,
      "id": "55507716",
      "metadata": {
        "colab": {
          "base_uri": "https://localhost:8080/",
          "height": 171
        },
        "id": "55507716",
        "outputId": "7d3cb146-b7d4-48a4-9d48-9c424c4819b4"
      },
      "outputs": [
        {
          "output_type": "display_data",
          "data": {
            "text/plain": [
              "<IPython.core.display.HTML object>"
            ],
            "text/html": [
              "<svg width=\"300\" height=\"150\">\n",
              "    <rect width=\"100%\" height=\"100%\" fill=\"#F3F3F7\" />\n",
              "\n",
              "<line x1=\"150\" y1=\"75\" x2=\"154.4\" y2=\"75.0\"\n",
              "    stroke=\"#663399\" stroke-width=\"2\" />\n",
              "<line x1=\"154.4\" y1=\"75.0\" x2=\"156.7\" y2=\"71.2\"\n",
              "    stroke=\"#663399\" stroke-width=\"2\" />\n",
              "<line x1=\"156.7\" y1=\"71.2\" x2=\"158.9\" y2=\"75.0\"\n",
              "    stroke=\"#663399\" stroke-width=\"2\" />\n",
              "<line x1=\"158.9\" y1=\"75.0\" x2=\"163.3\" y2=\"75.0\"\n",
              "    stroke=\"#663399\" stroke-width=\"2\" />\n",
              "<line x1=\"163.3\" y1=\"75.0\" x2=\"165.6\" y2=\"71.2\"\n",
              "    stroke=\"#663399\" stroke-width=\"2\" />\n",
              "<line x1=\"165.6\" y1=\"71.2\" x2=\"163.3\" y2=\"67.3\"\n",
              "    stroke=\"#663399\" stroke-width=\"2\" />\n",
              "<line x1=\"163.3\" y1=\"67.3\" x2=\"167.8\" y2=\"67.3\"\n",
              "    stroke=\"#663399\" stroke-width=\"2\" />\n",
              "<line x1=\"167.8\" y1=\"67.3\" x2=\"170.0\" y2=\"63.5\"\n",
              "    stroke=\"#663399\" stroke-width=\"2\" />\n",
              "<line x1=\"170.0\" y1=\"63.5\" x2=\"172.2\" y2=\"67.3\"\n",
              "    stroke=\"#663399\" stroke-width=\"2\" />\n",
              "<line x1=\"172.2\" y1=\"67.3\" x2=\"176.7\" y2=\"67.3\"\n",
              "    stroke=\"#663399\" stroke-width=\"2\" />\n",
              "<line x1=\"176.7\" y1=\"67.3\" x2=\"174.4\" y2=\"71.2\"\n",
              "    stroke=\"#663399\" stroke-width=\"2\" />\n",
              "<line x1=\"174.4\" y1=\"71.2\" x2=\"176.7\" y2=\"75.0\"\n",
              "    stroke=\"#663399\" stroke-width=\"2\" />\n",
              "<line x1=\"176.7\" y1=\"75.0\" x2=\"181.1\" y2=\"75.0\"\n",
              "    stroke=\"#663399\" stroke-width=\"2\" />\n",
              "<line x1=\"181.1\" y1=\"75.0\" x2=\"183.3\" y2=\"71.2\"\n",
              "    stroke=\"#663399\" stroke-width=\"2\" />\n",
              "<line x1=\"183.3\" y1=\"71.2\" x2=\"185.6\" y2=\"75.0\"\n",
              "    stroke=\"#663399\" stroke-width=\"2\" />\n",
              "<line x1=\"185.6\" y1=\"75.0\" x2=\"190.0\" y2=\"75.0\"\n",
              "    stroke=\"#663399\" stroke-width=\"2\" />\n",
              "<line x1=\"190.0\" y1=\"75.0\" x2=\"192.2\" y2=\"71.2\"\n",
              "    stroke=\"#663399\" stroke-width=\"2\" />\n",
              "<line x1=\"192.2\" y1=\"71.2\" x2=\"190.0\" y2=\"67.3\"\n",
              "    stroke=\"#663399\" stroke-width=\"2\" />\n",
              "<line x1=\"190.0\" y1=\"67.3\" x2=\"194.4\" y2=\"67.3\"\n",
              "    stroke=\"#663399\" stroke-width=\"2\" />\n",
              "<line x1=\"194.4\" y1=\"67.3\" x2=\"196.7\" y2=\"63.5\"\n",
              "    stroke=\"#663399\" stroke-width=\"2\" />\n",
              "<line x1=\"196.7\" y1=\"63.5\" x2=\"194.4\" y2=\"59.6\"\n",
              "    stroke=\"#663399\" stroke-width=\"2\" />\n",
              "<line x1=\"194.4\" y1=\"59.6\" x2=\"190.0\" y2=\"59.6\"\n",
              "    stroke=\"#663399\" stroke-width=\"2\" />\n",
              "<line x1=\"190.0\" y1=\"59.6\" x2=\"192.2\" y2=\"55.8\"\n",
              "    stroke=\"#663399\" stroke-width=\"2\" />\n",
              "<line x1=\"192.2\" y1=\"55.8\" x2=\"190.0\" y2=\"51.9\"\n",
              "    stroke=\"#663399\" stroke-width=\"2\" />\n",
              "<line x1=\"190.0\" y1=\"51.9\" x2=\"194.4\" y2=\"51.9\"\n",
              "    stroke=\"#663399\" stroke-width=\"2\" />\n",
              "<line x1=\"194.4\" y1=\"51.9\" x2=\"196.7\" y2=\"48.1\"\n",
              "    stroke=\"#663399\" stroke-width=\"2\" />\n",
              "<line x1=\"196.7\" y1=\"48.1\" x2=\"198.9\" y2=\"51.9\"\n",
              "    stroke=\"#663399\" stroke-width=\"2\" />\n",
              "<line x1=\"198.9\" y1=\"51.9\" x2=\"203.3\" y2=\"51.9\"\n",
              "    stroke=\"#663399\" stroke-width=\"2\" />\n",
              "<line x1=\"203.3\" y1=\"51.9\" x2=\"205.6\" y2=\"48.1\"\n",
              "    stroke=\"#663399\" stroke-width=\"2\" />\n",
              "<line x1=\"205.6\" y1=\"48.1\" x2=\"203.3\" y2=\"44.2\"\n",
              "    stroke=\"#663399\" stroke-width=\"2\" />\n",
              "<line x1=\"203.3\" y1=\"44.2\" x2=\"207.8\" y2=\"44.2\"\n",
              "    stroke=\"#663399\" stroke-width=\"2\" />\n",
              "<line x1=\"207.8\" y1=\"44.2\" x2=\"210.0\" y2=\"40.4\"\n",
              "    stroke=\"#663399\" stroke-width=\"2\" />\n",
              "<line x1=\"210.0\" y1=\"40.4\" x2=\"212.2\" y2=\"44.2\"\n",
              "    stroke=\"#663399\" stroke-width=\"2\" />\n",
              "<line x1=\"212.2\" y1=\"44.2\" x2=\"216.7\" y2=\"44.2\"\n",
              "    stroke=\"#663399\" stroke-width=\"2\" />\n",
              "<line x1=\"216.7\" y1=\"44.2\" x2=\"214.4\" y2=\"48.1\"\n",
              "    stroke=\"#663399\" stroke-width=\"2\" />\n",
              "<line x1=\"214.4\" y1=\"48.1\" x2=\"216.7\" y2=\"51.9\"\n",
              "    stroke=\"#663399\" stroke-width=\"2\" />\n",
              "<line x1=\"216.7\" y1=\"51.9\" x2=\"221.1\" y2=\"51.9\"\n",
              "    stroke=\"#663399\" stroke-width=\"2\" />\n",
              "<line x1=\"221.1\" y1=\"51.9\" x2=\"223.3\" y2=\"48.1\"\n",
              "    stroke=\"#663399\" stroke-width=\"2\" />\n",
              "<line x1=\"223.3\" y1=\"48.1\" x2=\"225.6\" y2=\"51.9\"\n",
              "    stroke=\"#663399\" stroke-width=\"2\" />\n",
              "<line x1=\"225.6\" y1=\"51.9\" x2=\"230.0\" y2=\"51.9\"\n",
              "    stroke=\"#663399\" stroke-width=\"2\" />\n",
              "<line x1=\"230.0\" y1=\"51.9\" x2=\"227.8\" y2=\"55.8\"\n",
              "    stroke=\"#663399\" stroke-width=\"2\" />\n",
              "<line x1=\"227.8\" y1=\"55.8\" x2=\"230.0\" y2=\"59.6\"\n",
              "    stroke=\"#663399\" stroke-width=\"2\" />\n",
              "<line x1=\"230.0\" y1=\"59.6\" x2=\"225.6\" y2=\"59.6\"\n",
              "    stroke=\"#663399\" stroke-width=\"2\" />\n",
              "<line x1=\"225.6\" y1=\"59.6\" x2=\"223.3\" y2=\"63.5\"\n",
              "    stroke=\"#663399\" stroke-width=\"2\" />\n",
              "<line x1=\"223.3\" y1=\"63.5\" x2=\"225.6\" y2=\"67.3\"\n",
              "    stroke=\"#663399\" stroke-width=\"2\" />\n",
              "<line x1=\"225.6\" y1=\"67.3\" x2=\"230.0\" y2=\"67.3\"\n",
              "    stroke=\"#663399\" stroke-width=\"2\" />\n",
              "<line x1=\"230.0\" y1=\"67.3\" x2=\"227.8\" y2=\"71.2\"\n",
              "    stroke=\"#663399\" stroke-width=\"2\" />\n",
              "<line x1=\"227.8\" y1=\"71.2\" x2=\"230.0\" y2=\"75.0\"\n",
              "    stroke=\"#663399\" stroke-width=\"2\" />\n",
              "<line x1=\"230.0\" y1=\"75.0\" x2=\"234.4\" y2=\"75.0\"\n",
              "    stroke=\"#663399\" stroke-width=\"2\" />\n",
              "<line x1=\"234.4\" y1=\"75.0\" x2=\"236.7\" y2=\"71.2\"\n",
              "    stroke=\"#663399\" stroke-width=\"2\" />\n",
              "<line x1=\"236.7\" y1=\"71.2\" x2=\"238.9\" y2=\"75.0\"\n",
              "    stroke=\"#663399\" stroke-width=\"2\" />\n",
              "<line x1=\"238.9\" y1=\"75.0\" x2=\"243.3\" y2=\"75.0\"\n",
              "    stroke=\"#663399\" stroke-width=\"2\" />\n",
              "<line x1=\"243.3\" y1=\"75.0\" x2=\"245.6\" y2=\"71.2\"\n",
              "    stroke=\"#663399\" stroke-width=\"2\" />\n",
              "<line x1=\"245.6\" y1=\"71.2\" x2=\"243.3\" y2=\"67.3\"\n",
              "    stroke=\"#663399\" stroke-width=\"2\" />\n",
              "<line x1=\"243.3\" y1=\"67.3\" x2=\"247.8\" y2=\"67.3\"\n",
              "    stroke=\"#663399\" stroke-width=\"2\" />\n",
              "<line x1=\"247.8\" y1=\"67.3\" x2=\"250.0\" y2=\"63.5\"\n",
              "    stroke=\"#663399\" stroke-width=\"2\" />\n",
              "<line x1=\"250.0\" y1=\"63.5\" x2=\"252.2\" y2=\"67.3\"\n",
              "    stroke=\"#663399\" stroke-width=\"2\" />\n",
              "<line x1=\"252.2\" y1=\"67.3\" x2=\"256.7\" y2=\"67.3\"\n",
              "    stroke=\"#663399\" stroke-width=\"2\" />\n",
              "<line x1=\"256.7\" y1=\"67.3\" x2=\"254.4\" y2=\"71.2\"\n",
              "    stroke=\"#663399\" stroke-width=\"2\" />\n",
              "<line x1=\"254.4\" y1=\"71.2\" x2=\"256.7\" y2=\"75.0\"\n",
              "    stroke=\"#663399\" stroke-width=\"2\" />\n",
              "<line x1=\"256.7\" y1=\"75.0\" x2=\"261.1\" y2=\"75.0\"\n",
              "    stroke=\"#663399\" stroke-width=\"2\" />\n",
              "<line x1=\"261.1\" y1=\"75.0\" x2=\"263.3\" y2=\"71.2\"\n",
              "    stroke=\"#663399\" stroke-width=\"2\" />\n",
              "<line x1=\"263.3\" y1=\"71.2\" x2=\"265.6\" y2=\"75.0\"\n",
              "    stroke=\"#663399\" stroke-width=\"2\" />\n",
              "<line x1=\"265.6\" y1=\"75.0\" x2=\"270.0\" y2=\"75.0\"\n",
              "    stroke=\"#663399\" stroke-width=\"2\" />\n",
              "\n",
              "<g transform=\"rotate(-90.0,270.0,75.0) translate(270.0, 75.0)\">\n",
              "    <circle stroke=\"#63A375\" stroke-width=\"2\" fill=\"transparent\" r=\"5.5\" cx=\"0\" cy=\"0\"/>\n",
              "    <polygon points=\"0,12 2,9 -2,9\" style=\"fill:#63A375;stroke:#63A375;stroke-width:2\"/>\n",
              "</g>\n",
              "\n",
              "</svg>"
            ]
          },
          "metadata": {}
        }
      ],
      "source": [
        "from jupyturtle import make_turtle, forward\n",
        "make_turtle(delay=0)\n",
        "koch(120)"
      ]
    },
    {
      "cell_type": "markdown",
      "id": "b1c58420",
      "metadata": {
        "tags": [],
        "id": "b1c58420"
      },
      "source": [
        "Once you have koch working, you can use this loop to draw three Koch curves in the shape of a snowflake."
      ]
    },
    {
      "cell_type": "code",
      "execution_count": 42,
      "id": "86d3123b",
      "metadata": {
        "tags": [],
        "colab": {
          "base_uri": "https://localhost:8080/",
          "height": 321
        },
        "id": "86d3123b",
        "outputId": "27171ebb-cb73-4abf-95c4-9e3d2fdb10a1"
      },
      "outputs": [
        {
          "output_type": "display_data",
          "data": {
            "text/plain": [
              "<IPython.core.display.HTML object>"
            ],
            "text/html": [
              "<svg width=\"300\" height=\"300\">\n",
              "    <rect width=\"100%\" height=\"100%\" fill=\"#F3F3F7\" />\n",
              "\n",
              "<line x1=\"150\" y1=\"150\" x2=\"154.4\" y2=\"150.0\"\n",
              "    stroke=\"#663399\" stroke-width=\"2\" />\n",
              "<line x1=\"154.4\" y1=\"150.0\" x2=\"156.7\" y2=\"146.2\"\n",
              "    stroke=\"#663399\" stroke-width=\"2\" />\n",
              "<line x1=\"156.7\" y1=\"146.2\" x2=\"158.9\" y2=\"150.0\"\n",
              "    stroke=\"#663399\" stroke-width=\"2\" />\n",
              "<line x1=\"158.9\" y1=\"150.0\" x2=\"163.3\" y2=\"150.0\"\n",
              "    stroke=\"#663399\" stroke-width=\"2\" />\n",
              "<line x1=\"163.3\" y1=\"150.0\" x2=\"165.6\" y2=\"146.2\"\n",
              "    stroke=\"#663399\" stroke-width=\"2\" />\n",
              "<line x1=\"165.6\" y1=\"146.2\" x2=\"163.3\" y2=\"142.3\"\n",
              "    stroke=\"#663399\" stroke-width=\"2\" />\n",
              "<line x1=\"163.3\" y1=\"142.3\" x2=\"167.8\" y2=\"142.3\"\n",
              "    stroke=\"#663399\" stroke-width=\"2\" />\n",
              "<line x1=\"167.8\" y1=\"142.3\" x2=\"170.0\" y2=\"138.5\"\n",
              "    stroke=\"#663399\" stroke-width=\"2\" />\n",
              "<line x1=\"170.0\" y1=\"138.5\" x2=\"172.2\" y2=\"142.3\"\n",
              "    stroke=\"#663399\" stroke-width=\"2\" />\n",
              "<line x1=\"172.2\" y1=\"142.3\" x2=\"176.7\" y2=\"142.3\"\n",
              "    stroke=\"#663399\" stroke-width=\"2\" />\n",
              "<line x1=\"176.7\" y1=\"142.3\" x2=\"174.4\" y2=\"146.2\"\n",
              "    stroke=\"#663399\" stroke-width=\"2\" />\n",
              "<line x1=\"174.4\" y1=\"146.2\" x2=\"176.7\" y2=\"150.0\"\n",
              "    stroke=\"#663399\" stroke-width=\"2\" />\n",
              "<line x1=\"176.7\" y1=\"150.0\" x2=\"181.1\" y2=\"150.0\"\n",
              "    stroke=\"#663399\" stroke-width=\"2\" />\n",
              "<line x1=\"181.1\" y1=\"150.0\" x2=\"183.3\" y2=\"146.2\"\n",
              "    stroke=\"#663399\" stroke-width=\"2\" />\n",
              "<line x1=\"183.3\" y1=\"146.2\" x2=\"185.6\" y2=\"150.0\"\n",
              "    stroke=\"#663399\" stroke-width=\"2\" />\n",
              "<line x1=\"185.6\" y1=\"150.0\" x2=\"190.0\" y2=\"150.0\"\n",
              "    stroke=\"#663399\" stroke-width=\"2\" />\n",
              "<line x1=\"190.0\" y1=\"150.0\" x2=\"192.2\" y2=\"146.2\"\n",
              "    stroke=\"#663399\" stroke-width=\"2\" />\n",
              "<line x1=\"192.2\" y1=\"146.2\" x2=\"190.0\" y2=\"142.3\"\n",
              "    stroke=\"#663399\" stroke-width=\"2\" />\n",
              "<line x1=\"190.0\" y1=\"142.3\" x2=\"194.4\" y2=\"142.3\"\n",
              "    stroke=\"#663399\" stroke-width=\"2\" />\n",
              "<line x1=\"194.4\" y1=\"142.3\" x2=\"196.7\" y2=\"138.5\"\n",
              "    stroke=\"#663399\" stroke-width=\"2\" />\n",
              "<line x1=\"196.7\" y1=\"138.5\" x2=\"194.4\" y2=\"134.6\"\n",
              "    stroke=\"#663399\" stroke-width=\"2\" />\n",
              "<line x1=\"194.4\" y1=\"134.6\" x2=\"190.0\" y2=\"134.6\"\n",
              "    stroke=\"#663399\" stroke-width=\"2\" />\n",
              "<line x1=\"190.0\" y1=\"134.6\" x2=\"192.2\" y2=\"130.8\"\n",
              "    stroke=\"#663399\" stroke-width=\"2\" />\n",
              "<line x1=\"192.2\" y1=\"130.8\" x2=\"190.0\" y2=\"126.9\"\n",
              "    stroke=\"#663399\" stroke-width=\"2\" />\n",
              "<line x1=\"190.0\" y1=\"126.9\" x2=\"194.4\" y2=\"126.9\"\n",
              "    stroke=\"#663399\" stroke-width=\"2\" />\n",
              "<line x1=\"194.4\" y1=\"126.9\" x2=\"196.7\" y2=\"123.1\"\n",
              "    stroke=\"#663399\" stroke-width=\"2\" />\n",
              "<line x1=\"196.7\" y1=\"123.1\" x2=\"198.9\" y2=\"126.9\"\n",
              "    stroke=\"#663399\" stroke-width=\"2\" />\n",
              "<line x1=\"198.9\" y1=\"126.9\" x2=\"203.3\" y2=\"126.9\"\n",
              "    stroke=\"#663399\" stroke-width=\"2\" />\n",
              "<line x1=\"203.3\" y1=\"126.9\" x2=\"205.6\" y2=\"123.1\"\n",
              "    stroke=\"#663399\" stroke-width=\"2\" />\n",
              "<line x1=\"205.6\" y1=\"123.1\" x2=\"203.3\" y2=\"119.2\"\n",
              "    stroke=\"#663399\" stroke-width=\"2\" />\n",
              "<line x1=\"203.3\" y1=\"119.2\" x2=\"207.8\" y2=\"119.2\"\n",
              "    stroke=\"#663399\" stroke-width=\"2\" />\n",
              "<line x1=\"207.8\" y1=\"119.2\" x2=\"210.0\" y2=\"115.4\"\n",
              "    stroke=\"#663399\" stroke-width=\"2\" />\n",
              "<line x1=\"210.0\" y1=\"115.4\" x2=\"212.2\" y2=\"119.2\"\n",
              "    stroke=\"#663399\" stroke-width=\"2\" />\n",
              "<line x1=\"212.2\" y1=\"119.2\" x2=\"216.7\" y2=\"119.2\"\n",
              "    stroke=\"#663399\" stroke-width=\"2\" />\n",
              "<line x1=\"216.7\" y1=\"119.2\" x2=\"214.4\" y2=\"123.1\"\n",
              "    stroke=\"#663399\" stroke-width=\"2\" />\n",
              "<line x1=\"214.4\" y1=\"123.1\" x2=\"216.7\" y2=\"126.9\"\n",
              "    stroke=\"#663399\" stroke-width=\"2\" />\n",
              "<line x1=\"216.7\" y1=\"126.9\" x2=\"221.1\" y2=\"126.9\"\n",
              "    stroke=\"#663399\" stroke-width=\"2\" />\n",
              "<line x1=\"221.1\" y1=\"126.9\" x2=\"223.3\" y2=\"123.1\"\n",
              "    stroke=\"#663399\" stroke-width=\"2\" />\n",
              "<line x1=\"223.3\" y1=\"123.1\" x2=\"225.6\" y2=\"126.9\"\n",
              "    stroke=\"#663399\" stroke-width=\"2\" />\n",
              "<line x1=\"225.6\" y1=\"126.9\" x2=\"230.0\" y2=\"126.9\"\n",
              "    stroke=\"#663399\" stroke-width=\"2\" />\n",
              "<line x1=\"230.0\" y1=\"126.9\" x2=\"227.8\" y2=\"130.8\"\n",
              "    stroke=\"#663399\" stroke-width=\"2\" />\n",
              "<line x1=\"227.8\" y1=\"130.8\" x2=\"230.0\" y2=\"134.6\"\n",
              "    stroke=\"#663399\" stroke-width=\"2\" />\n",
              "<line x1=\"230.0\" y1=\"134.6\" x2=\"225.6\" y2=\"134.6\"\n",
              "    stroke=\"#663399\" stroke-width=\"2\" />\n",
              "<line x1=\"225.6\" y1=\"134.6\" x2=\"223.3\" y2=\"138.5\"\n",
              "    stroke=\"#663399\" stroke-width=\"2\" />\n",
              "<line x1=\"223.3\" y1=\"138.5\" x2=\"225.6\" y2=\"142.3\"\n",
              "    stroke=\"#663399\" stroke-width=\"2\" />\n",
              "<line x1=\"225.6\" y1=\"142.3\" x2=\"230.0\" y2=\"142.3\"\n",
              "    stroke=\"#663399\" stroke-width=\"2\" />\n",
              "<line x1=\"230.0\" y1=\"142.3\" x2=\"227.8\" y2=\"146.2\"\n",
              "    stroke=\"#663399\" stroke-width=\"2\" />\n",
              "<line x1=\"227.8\" y1=\"146.2\" x2=\"230.0\" y2=\"150.0\"\n",
              "    stroke=\"#663399\" stroke-width=\"2\" />\n",
              "<line x1=\"230.0\" y1=\"150.0\" x2=\"234.4\" y2=\"150.0\"\n",
              "    stroke=\"#663399\" stroke-width=\"2\" />\n",
              "<line x1=\"234.4\" y1=\"150.0\" x2=\"236.7\" y2=\"146.2\"\n",
              "    stroke=\"#663399\" stroke-width=\"2\" />\n",
              "<line x1=\"236.7\" y1=\"146.2\" x2=\"238.9\" y2=\"150.0\"\n",
              "    stroke=\"#663399\" stroke-width=\"2\" />\n",
              "<line x1=\"238.9\" y1=\"150.0\" x2=\"243.3\" y2=\"150.0\"\n",
              "    stroke=\"#663399\" stroke-width=\"2\" />\n",
              "<line x1=\"243.3\" y1=\"150.0\" x2=\"245.6\" y2=\"146.2\"\n",
              "    stroke=\"#663399\" stroke-width=\"2\" />\n",
              "<line x1=\"245.6\" y1=\"146.2\" x2=\"243.3\" y2=\"142.3\"\n",
              "    stroke=\"#663399\" stroke-width=\"2\" />\n",
              "<line x1=\"243.3\" y1=\"142.3\" x2=\"247.8\" y2=\"142.3\"\n",
              "    stroke=\"#663399\" stroke-width=\"2\" />\n",
              "<line x1=\"247.8\" y1=\"142.3\" x2=\"250.0\" y2=\"138.5\"\n",
              "    stroke=\"#663399\" stroke-width=\"2\" />\n",
              "<line x1=\"250.0\" y1=\"138.5\" x2=\"252.2\" y2=\"142.3\"\n",
              "    stroke=\"#663399\" stroke-width=\"2\" />\n",
              "<line x1=\"252.2\" y1=\"142.3\" x2=\"256.7\" y2=\"142.3\"\n",
              "    stroke=\"#663399\" stroke-width=\"2\" />\n",
              "<line x1=\"256.7\" y1=\"142.3\" x2=\"254.4\" y2=\"146.2\"\n",
              "    stroke=\"#663399\" stroke-width=\"2\" />\n",
              "<line x1=\"254.4\" y1=\"146.2\" x2=\"256.7\" y2=\"150.0\"\n",
              "    stroke=\"#663399\" stroke-width=\"2\" />\n",
              "<line x1=\"256.7\" y1=\"150.0\" x2=\"261.1\" y2=\"150.0\"\n",
              "    stroke=\"#663399\" stroke-width=\"2\" />\n",
              "<line x1=\"261.1\" y1=\"150.0\" x2=\"263.3\" y2=\"146.2\"\n",
              "    stroke=\"#663399\" stroke-width=\"2\" />\n",
              "<line x1=\"263.3\" y1=\"146.2\" x2=\"265.6\" y2=\"150.0\"\n",
              "    stroke=\"#663399\" stroke-width=\"2\" />\n",
              "<line x1=\"265.6\" y1=\"150.0\" x2=\"270.0\" y2=\"150.0\"\n",
              "    stroke=\"#663399\" stroke-width=\"2\" />\n",
              "<line x1=\"270.0\" y1=\"150.0\" x2=\"267.8\" y2=\"153.8\"\n",
              "    stroke=\"#663399\" stroke-width=\"2\" />\n",
              "<line x1=\"267.8\" y1=\"153.8\" x2=\"270.0\" y2=\"157.7\"\n",
              "    stroke=\"#663399\" stroke-width=\"2\" />\n",
              "<line x1=\"270.0\" y1=\"157.7\" x2=\"265.6\" y2=\"157.7\"\n",
              "    stroke=\"#663399\" stroke-width=\"2\" />\n",
              "<line x1=\"265.6\" y1=\"157.7\" x2=\"263.3\" y2=\"161.5\"\n",
              "    stroke=\"#663399\" stroke-width=\"2\" />\n",
              "<line x1=\"263.3\" y1=\"161.5\" x2=\"265.6\" y2=\"165.4\"\n",
              "    stroke=\"#663399\" stroke-width=\"2\" />\n",
              "<line x1=\"265.6\" y1=\"165.4\" x2=\"270.0\" y2=\"165.4\"\n",
              "    stroke=\"#663399\" stroke-width=\"2\" />\n",
              "<line x1=\"270.0\" y1=\"165.4\" x2=\"267.8\" y2=\"169.2\"\n",
              "    stroke=\"#663399\" stroke-width=\"2\" />\n",
              "<line x1=\"267.8\" y1=\"169.2\" x2=\"270.0\" y2=\"173.1\"\n",
              "    stroke=\"#663399\" stroke-width=\"2\" />\n",
              "<line x1=\"270.0\" y1=\"173.1\" x2=\"265.6\" y2=\"173.1\"\n",
              "    stroke=\"#663399\" stroke-width=\"2\" />\n",
              "<line x1=\"265.6\" y1=\"173.1\" x2=\"263.3\" y2=\"176.9\"\n",
              "    stroke=\"#663399\" stroke-width=\"2\" />\n",
              "<line x1=\"263.3\" y1=\"176.9\" x2=\"261.1\" y2=\"173.1\"\n",
              "    stroke=\"#663399\" stroke-width=\"2\" />\n",
              "<line x1=\"261.1\" y1=\"173.1\" x2=\"256.7\" y2=\"173.1\"\n",
              "    stroke=\"#663399\" stroke-width=\"2\" />\n",
              "<line x1=\"256.7\" y1=\"173.1\" x2=\"254.4\" y2=\"176.9\"\n",
              "    stroke=\"#663399\" stroke-width=\"2\" />\n",
              "<line x1=\"254.4\" y1=\"176.9\" x2=\"256.7\" y2=\"180.8\"\n",
              "    stroke=\"#663399\" stroke-width=\"2\" />\n",
              "<line x1=\"256.7\" y1=\"180.8\" x2=\"252.2\" y2=\"180.8\"\n",
              "    stroke=\"#663399\" stroke-width=\"2\" />\n",
              "<line x1=\"252.2\" y1=\"180.8\" x2=\"250.0\" y2=\"184.6\"\n",
              "    stroke=\"#663399\" stroke-width=\"2\" />\n",
              "<line x1=\"250.0\" y1=\"184.6\" x2=\"252.2\" y2=\"188.5\"\n",
              "    stroke=\"#663399\" stroke-width=\"2\" />\n",
              "<line x1=\"252.2\" y1=\"188.5\" x2=\"256.7\" y2=\"188.5\"\n",
              "    stroke=\"#663399\" stroke-width=\"2\" />\n",
              "<line x1=\"256.7\" y1=\"188.5\" x2=\"254.4\" y2=\"192.3\"\n",
              "    stroke=\"#663399\" stroke-width=\"2\" />\n",
              "<line x1=\"254.4\" y1=\"192.3\" x2=\"256.7\" y2=\"196.2\"\n",
              "    stroke=\"#663399\" stroke-width=\"2\" />\n",
              "<line x1=\"256.7\" y1=\"196.2\" x2=\"261.1\" y2=\"196.2\"\n",
              "    stroke=\"#663399\" stroke-width=\"2\" />\n",
              "<line x1=\"261.1\" y1=\"196.2\" x2=\"263.3\" y2=\"192.3\"\n",
              "    stroke=\"#663399\" stroke-width=\"2\" />\n",
              "<line x1=\"263.3\" y1=\"192.3\" x2=\"265.6\" y2=\"196.2\"\n",
              "    stroke=\"#663399\" stroke-width=\"2\" />\n",
              "<line x1=\"265.6\" y1=\"196.2\" x2=\"270.0\" y2=\"196.2\"\n",
              "    stroke=\"#663399\" stroke-width=\"2\" />\n",
              "<line x1=\"270.0\" y1=\"196.2\" x2=\"267.8\" y2=\"200.0\"\n",
              "    stroke=\"#663399\" stroke-width=\"2\" />\n",
              "<line x1=\"267.8\" y1=\"200.0\" x2=\"270.0\" y2=\"203.9\"\n",
              "    stroke=\"#663399\" stroke-width=\"2\" />\n",
              "<line x1=\"270.0\" y1=\"203.9\" x2=\"265.6\" y2=\"203.9\"\n",
              "    stroke=\"#663399\" stroke-width=\"2\" />\n",
              "<line x1=\"265.6\" y1=\"203.9\" x2=\"263.3\" y2=\"207.7\"\n",
              "    stroke=\"#663399\" stroke-width=\"2\" />\n",
              "<line x1=\"263.3\" y1=\"207.7\" x2=\"265.6\" y2=\"211.6\"\n",
              "    stroke=\"#663399\" stroke-width=\"2\" />\n",
              "<line x1=\"265.6\" y1=\"211.6\" x2=\"270.0\" y2=\"211.6\"\n",
              "    stroke=\"#663399\" stroke-width=\"2\" />\n",
              "<line x1=\"270.0\" y1=\"211.6\" x2=\"267.8\" y2=\"215.4\"\n",
              "    stroke=\"#663399\" stroke-width=\"2\" />\n",
              "<line x1=\"267.8\" y1=\"215.4\" x2=\"270.0\" y2=\"219.3\"\n",
              "    stroke=\"#663399\" stroke-width=\"2\" />\n",
              "<line x1=\"270.0\" y1=\"219.3\" x2=\"265.6\" y2=\"219.3\"\n",
              "    stroke=\"#663399\" stroke-width=\"2\" />\n",
              "<line x1=\"265.6\" y1=\"219.3\" x2=\"263.3\" y2=\"223.1\"\n",
              "    stroke=\"#663399\" stroke-width=\"2\" />\n",
              "<line x1=\"263.3\" y1=\"223.1\" x2=\"261.1\" y2=\"219.3\"\n",
              "    stroke=\"#663399\" stroke-width=\"2\" />\n",
              "<line x1=\"261.1\" y1=\"219.3\" x2=\"256.7\" y2=\"219.3\"\n",
              "    stroke=\"#663399\" stroke-width=\"2\" />\n",
              "<line x1=\"256.7\" y1=\"219.3\" x2=\"254.4\" y2=\"223.1\"\n",
              "    stroke=\"#663399\" stroke-width=\"2\" />\n",
              "<line x1=\"254.4\" y1=\"223.1\" x2=\"256.7\" y2=\"227.0\"\n",
              "    stroke=\"#663399\" stroke-width=\"2\" />\n",
              "<line x1=\"256.7\" y1=\"227.0\" x2=\"252.2\" y2=\"227.0\"\n",
              "    stroke=\"#663399\" stroke-width=\"2\" />\n",
              "<line x1=\"252.2\" y1=\"227.0\" x2=\"250.0\" y2=\"230.8\"\n",
              "    stroke=\"#663399\" stroke-width=\"2\" />\n",
              "<line x1=\"250.0\" y1=\"230.8\" x2=\"247.8\" y2=\"227.0\"\n",
              "    stroke=\"#663399\" stroke-width=\"2\" />\n",
              "<line x1=\"247.8\" y1=\"227.0\" x2=\"243.3\" y2=\"227.0\"\n",
              "    stroke=\"#663399\" stroke-width=\"2\" />\n",
              "<line x1=\"243.3\" y1=\"227.0\" x2=\"245.6\" y2=\"223.1\"\n",
              "    stroke=\"#663399\" stroke-width=\"2\" />\n",
              "<line x1=\"245.6\" y1=\"223.1\" x2=\"243.3\" y2=\"219.3\"\n",
              "    stroke=\"#663399\" stroke-width=\"2\" />\n",
              "<line x1=\"243.3\" y1=\"219.3\" x2=\"238.9\" y2=\"219.3\"\n",
              "    stroke=\"#663399\" stroke-width=\"2\" />\n",
              "<line x1=\"238.9\" y1=\"219.3\" x2=\"236.7\" y2=\"223.1\"\n",
              "    stroke=\"#663399\" stroke-width=\"2\" />\n",
              "<line x1=\"236.7\" y1=\"223.1\" x2=\"234.4\" y2=\"219.3\"\n",
              "    stroke=\"#663399\" stroke-width=\"2\" />\n",
              "<line x1=\"234.4\" y1=\"219.3\" x2=\"230.0\" y2=\"219.3\"\n",
              "    stroke=\"#663399\" stroke-width=\"2\" />\n",
              "<line x1=\"230.0\" y1=\"219.3\" x2=\"227.8\" y2=\"223.1\"\n",
              "    stroke=\"#663399\" stroke-width=\"2\" />\n",
              "<line x1=\"227.8\" y1=\"223.1\" x2=\"230.0\" y2=\"227.0\"\n",
              "    stroke=\"#663399\" stroke-width=\"2\" />\n",
              "<line x1=\"230.0\" y1=\"227.0\" x2=\"225.6\" y2=\"227.0\"\n",
              "    stroke=\"#663399\" stroke-width=\"2\" />\n",
              "<line x1=\"225.6\" y1=\"227.0\" x2=\"223.3\" y2=\"230.8\"\n",
              "    stroke=\"#663399\" stroke-width=\"2\" />\n",
              "<line x1=\"223.3\" y1=\"230.8\" x2=\"225.6\" y2=\"234.7\"\n",
              "    stroke=\"#663399\" stroke-width=\"2\" />\n",
              "<line x1=\"225.6\" y1=\"234.7\" x2=\"230.0\" y2=\"234.7\"\n",
              "    stroke=\"#663399\" stroke-width=\"2\" />\n",
              "<line x1=\"230.0\" y1=\"234.7\" x2=\"227.8\" y2=\"238.5\"\n",
              "    stroke=\"#663399\" stroke-width=\"2\" />\n",
              "<line x1=\"227.8\" y1=\"238.5\" x2=\"230.0\" y2=\"242.4\"\n",
              "    stroke=\"#663399\" stroke-width=\"2\" />\n",
              "<line x1=\"230.0\" y1=\"242.4\" x2=\"225.6\" y2=\"242.4\"\n",
              "    stroke=\"#663399\" stroke-width=\"2\" />\n",
              "<line x1=\"225.6\" y1=\"242.4\" x2=\"223.3\" y2=\"246.2\"\n",
              "    stroke=\"#663399\" stroke-width=\"2\" />\n",
              "<line x1=\"223.3\" y1=\"246.2\" x2=\"221.1\" y2=\"242.4\"\n",
              "    stroke=\"#663399\" stroke-width=\"2\" />\n",
              "<line x1=\"221.1\" y1=\"242.4\" x2=\"216.7\" y2=\"242.4\"\n",
              "    stroke=\"#663399\" stroke-width=\"2\" />\n",
              "<line x1=\"216.7\" y1=\"242.4\" x2=\"214.4\" y2=\"246.2\"\n",
              "    stroke=\"#663399\" stroke-width=\"2\" />\n",
              "<line x1=\"214.4\" y1=\"246.2\" x2=\"216.7\" y2=\"250.1\"\n",
              "    stroke=\"#663399\" stroke-width=\"2\" />\n",
              "<line x1=\"216.7\" y1=\"250.1\" x2=\"212.2\" y2=\"250.1\"\n",
              "    stroke=\"#663399\" stroke-width=\"2\" />\n",
              "<line x1=\"212.2\" y1=\"250.1\" x2=\"210.0\" y2=\"253.9\"\n",
              "    stroke=\"#663399\" stroke-width=\"2\" />\n",
              "<line x1=\"210.0\" y1=\"253.9\" x2=\"207.8\" y2=\"250.1\"\n",
              "    stroke=\"#663399\" stroke-width=\"2\" />\n",
              "<line x1=\"207.8\" y1=\"250.1\" x2=\"203.3\" y2=\"250.1\"\n",
              "    stroke=\"#663399\" stroke-width=\"2\" />\n",
              "<line x1=\"203.3\" y1=\"250.1\" x2=\"205.6\" y2=\"246.2\"\n",
              "    stroke=\"#663399\" stroke-width=\"2\" />\n",
              "<line x1=\"205.6\" y1=\"246.2\" x2=\"203.3\" y2=\"242.4\"\n",
              "    stroke=\"#663399\" stroke-width=\"2\" />\n",
              "<line x1=\"203.3\" y1=\"242.4\" x2=\"198.9\" y2=\"242.4\"\n",
              "    stroke=\"#663399\" stroke-width=\"2\" />\n",
              "<line x1=\"198.9\" y1=\"242.4\" x2=\"196.7\" y2=\"246.2\"\n",
              "    stroke=\"#663399\" stroke-width=\"2\" />\n",
              "<line x1=\"196.7\" y1=\"246.2\" x2=\"194.4\" y2=\"242.4\"\n",
              "    stroke=\"#663399\" stroke-width=\"2\" />\n",
              "<line x1=\"194.4\" y1=\"242.4\" x2=\"190.0\" y2=\"242.4\"\n",
              "    stroke=\"#663399\" stroke-width=\"2\" />\n",
              "<line x1=\"190.0\" y1=\"242.4\" x2=\"192.2\" y2=\"238.5\"\n",
              "    stroke=\"#663399\" stroke-width=\"2\" />\n",
              "<line x1=\"192.2\" y1=\"238.5\" x2=\"190.0\" y2=\"234.7\"\n",
              "    stroke=\"#663399\" stroke-width=\"2\" />\n",
              "<line x1=\"190.0\" y1=\"234.7\" x2=\"194.4\" y2=\"234.7\"\n",
              "    stroke=\"#663399\" stroke-width=\"2\" />\n",
              "<line x1=\"194.4\" y1=\"234.7\" x2=\"196.7\" y2=\"230.8\"\n",
              "    stroke=\"#663399\" stroke-width=\"2\" />\n",
              "<line x1=\"196.7\" y1=\"230.8\" x2=\"194.4\" y2=\"227.0\"\n",
              "    stroke=\"#663399\" stroke-width=\"2\" />\n",
              "<line x1=\"194.4\" y1=\"227.0\" x2=\"190.0\" y2=\"227.0\"\n",
              "    stroke=\"#663399\" stroke-width=\"2\" />\n",
              "<line x1=\"190.0\" y1=\"227.0\" x2=\"192.2\" y2=\"223.1\"\n",
              "    stroke=\"#663399\" stroke-width=\"2\" />\n",
              "<line x1=\"192.2\" y1=\"223.1\" x2=\"190.0\" y2=\"219.3\"\n",
              "    stroke=\"#663399\" stroke-width=\"2\" />\n",
              "<line x1=\"190.0\" y1=\"219.3\" x2=\"185.6\" y2=\"219.3\"\n",
              "    stroke=\"#663399\" stroke-width=\"2\" />\n",
              "<line x1=\"185.6\" y1=\"219.3\" x2=\"183.3\" y2=\"223.1\"\n",
              "    stroke=\"#663399\" stroke-width=\"2\" />\n",
              "<line x1=\"183.3\" y1=\"223.1\" x2=\"181.1\" y2=\"219.3\"\n",
              "    stroke=\"#663399\" stroke-width=\"2\" />\n",
              "<line x1=\"181.1\" y1=\"219.3\" x2=\"176.7\" y2=\"219.3\"\n",
              "    stroke=\"#663399\" stroke-width=\"2\" />\n",
              "<line x1=\"176.7\" y1=\"219.3\" x2=\"174.4\" y2=\"223.1\"\n",
              "    stroke=\"#663399\" stroke-width=\"2\" />\n",
              "<line x1=\"174.4\" y1=\"223.1\" x2=\"176.7\" y2=\"227.0\"\n",
              "    stroke=\"#663399\" stroke-width=\"2\" />\n",
              "<line x1=\"176.7\" y1=\"227.0\" x2=\"172.2\" y2=\"227.0\"\n",
              "    stroke=\"#663399\" stroke-width=\"2\" />\n",
              "<line x1=\"172.2\" y1=\"227.0\" x2=\"170.0\" y2=\"230.8\"\n",
              "    stroke=\"#663399\" stroke-width=\"2\" />\n",
              "<line x1=\"170.0\" y1=\"230.8\" x2=\"167.8\" y2=\"227.0\"\n",
              "    stroke=\"#663399\" stroke-width=\"2\" />\n",
              "<line x1=\"167.8\" y1=\"227.0\" x2=\"163.3\" y2=\"227.0\"\n",
              "    stroke=\"#663399\" stroke-width=\"2\" />\n",
              "<line x1=\"163.3\" y1=\"227.0\" x2=\"165.6\" y2=\"223.1\"\n",
              "    stroke=\"#663399\" stroke-width=\"2\" />\n",
              "<line x1=\"165.6\" y1=\"223.1\" x2=\"163.3\" y2=\"219.3\"\n",
              "    stroke=\"#663399\" stroke-width=\"2\" />\n",
              "<line x1=\"163.3\" y1=\"219.3\" x2=\"158.9\" y2=\"219.3\"\n",
              "    stroke=\"#663399\" stroke-width=\"2\" />\n",
              "<line x1=\"158.9\" y1=\"219.3\" x2=\"156.7\" y2=\"223.1\"\n",
              "    stroke=\"#663399\" stroke-width=\"2\" />\n",
              "<line x1=\"156.7\" y1=\"223.1\" x2=\"154.4\" y2=\"219.3\"\n",
              "    stroke=\"#663399\" stroke-width=\"2\" />\n",
              "<line x1=\"154.4\" y1=\"219.3\" x2=\"150.0\" y2=\"219.3\"\n",
              "    stroke=\"#663399\" stroke-width=\"2\" />\n",
              "<line x1=\"150.0\" y1=\"219.3\" x2=\"152.2\" y2=\"215.4\"\n",
              "    stroke=\"#663399\" stroke-width=\"2\" />\n",
              "<line x1=\"152.2\" y1=\"215.4\" x2=\"150.0\" y2=\"211.6\"\n",
              "    stroke=\"#663399\" stroke-width=\"2\" />\n",
              "<line x1=\"150.0\" y1=\"211.6\" x2=\"154.4\" y2=\"211.6\"\n",
              "    stroke=\"#663399\" stroke-width=\"2\" />\n",
              "<line x1=\"154.4\" y1=\"211.6\" x2=\"156.7\" y2=\"207.7\"\n",
              "    stroke=\"#663399\" stroke-width=\"2\" />\n",
              "<line x1=\"156.7\" y1=\"207.7\" x2=\"154.4\" y2=\"203.9\"\n",
              "    stroke=\"#663399\" stroke-width=\"2\" />\n",
              "<line x1=\"154.4\" y1=\"203.9\" x2=\"150.0\" y2=\"203.9\"\n",
              "    stroke=\"#663399\" stroke-width=\"2\" />\n",
              "<line x1=\"150.0\" y1=\"203.9\" x2=\"152.2\" y2=\"200.0\"\n",
              "    stroke=\"#663399\" stroke-width=\"2\" />\n",
              "<line x1=\"152.2\" y1=\"200.0\" x2=\"150.0\" y2=\"196.2\"\n",
              "    stroke=\"#663399\" stroke-width=\"2\" />\n",
              "<line x1=\"150.0\" y1=\"196.2\" x2=\"154.4\" y2=\"196.2\"\n",
              "    stroke=\"#663399\" stroke-width=\"2\" />\n",
              "<line x1=\"154.4\" y1=\"196.2\" x2=\"156.7\" y2=\"192.3\"\n",
              "    stroke=\"#663399\" stroke-width=\"2\" />\n",
              "<line x1=\"156.7\" y1=\"192.3\" x2=\"158.9\" y2=\"196.2\"\n",
              "    stroke=\"#663399\" stroke-width=\"2\" />\n",
              "<line x1=\"158.9\" y1=\"196.2\" x2=\"163.3\" y2=\"196.2\"\n",
              "    stroke=\"#663399\" stroke-width=\"2\" />\n",
              "<line x1=\"163.3\" y1=\"196.2\" x2=\"165.6\" y2=\"192.3\"\n",
              "    stroke=\"#663399\" stroke-width=\"2\" />\n",
              "<line x1=\"165.6\" y1=\"192.3\" x2=\"163.3\" y2=\"188.5\"\n",
              "    stroke=\"#663399\" stroke-width=\"2\" />\n",
              "<line x1=\"163.3\" y1=\"188.5\" x2=\"167.8\" y2=\"188.5\"\n",
              "    stroke=\"#663399\" stroke-width=\"2\" />\n",
              "<line x1=\"167.8\" y1=\"188.5\" x2=\"170.0\" y2=\"184.6\"\n",
              "    stroke=\"#663399\" stroke-width=\"2\" />\n",
              "<line x1=\"170.0\" y1=\"184.6\" x2=\"167.8\" y2=\"180.8\"\n",
              "    stroke=\"#663399\" stroke-width=\"2\" />\n",
              "<line x1=\"167.8\" y1=\"180.8\" x2=\"163.3\" y2=\"180.8\"\n",
              "    stroke=\"#663399\" stroke-width=\"2\" />\n",
              "<line x1=\"163.3\" y1=\"180.8\" x2=\"165.6\" y2=\"176.9\"\n",
              "    stroke=\"#663399\" stroke-width=\"2\" />\n",
              "<line x1=\"165.6\" y1=\"176.9\" x2=\"163.3\" y2=\"173.1\"\n",
              "    stroke=\"#663399\" stroke-width=\"2\" />\n",
              "<line x1=\"163.3\" y1=\"173.1\" x2=\"158.9\" y2=\"173.1\"\n",
              "    stroke=\"#663399\" stroke-width=\"2\" />\n",
              "<line x1=\"158.9\" y1=\"173.1\" x2=\"156.7\" y2=\"176.9\"\n",
              "    stroke=\"#663399\" stroke-width=\"2\" />\n",
              "<line x1=\"156.7\" y1=\"176.9\" x2=\"154.4\" y2=\"173.1\"\n",
              "    stroke=\"#663399\" stroke-width=\"2\" />\n",
              "<line x1=\"154.4\" y1=\"173.1\" x2=\"150.0\" y2=\"173.1\"\n",
              "    stroke=\"#663399\" stroke-width=\"2\" />\n",
              "<line x1=\"150.0\" y1=\"173.1\" x2=\"152.2\" y2=\"169.2\"\n",
              "    stroke=\"#663399\" stroke-width=\"2\" />\n",
              "<line x1=\"152.2\" y1=\"169.2\" x2=\"150.0\" y2=\"165.4\"\n",
              "    stroke=\"#663399\" stroke-width=\"2\" />\n",
              "<line x1=\"150.0\" y1=\"165.4\" x2=\"154.4\" y2=\"165.4\"\n",
              "    stroke=\"#663399\" stroke-width=\"2\" />\n",
              "<line x1=\"154.4\" y1=\"165.4\" x2=\"156.7\" y2=\"161.5\"\n",
              "    stroke=\"#663399\" stroke-width=\"2\" />\n",
              "<line x1=\"156.7\" y1=\"161.5\" x2=\"154.4\" y2=\"157.7\"\n",
              "    stroke=\"#663399\" stroke-width=\"2\" />\n",
              "<line x1=\"154.4\" y1=\"157.7\" x2=\"150.0\" y2=\"157.7\"\n",
              "    stroke=\"#663399\" stroke-width=\"2\" />\n",
              "<line x1=\"150.0\" y1=\"157.7\" x2=\"152.2\" y2=\"153.8\"\n",
              "    stroke=\"#663399\" stroke-width=\"2\" />\n",
              "<line x1=\"152.2\" y1=\"153.8\" x2=\"150.0\" y2=\"150.0\"\n",
              "    stroke=\"#663399\" stroke-width=\"2\" />\n",
              "\n",
              "<g transform=\"rotate(-90.0,150.0,150.0) translate(150.0, 150.0)\">\n",
              "    <circle stroke=\"#63A375\" stroke-width=\"2\" fill=\"transparent\" r=\"5.5\" cx=\"0\" cy=\"0\"/>\n",
              "    <polygon points=\"0,12 2,9 -2,9\" style=\"fill:#63A375;stroke:#63A375;stroke-width:2\"/>\n",
              "</g>\n",
              "\n",
              "</svg>"
            ]
          },
          "metadata": {}
        }
      ],
      "source": [
        "make_turtle(delay=0, height=300)\n",
        "for i in range(3):\n",
        "    koch(120)\n",
        "    right(120)"
      ]
    },
    {
      "cell_type": "markdown",
      "id": "4c964239",
      "metadata": {
        "id": "4c964239"
      },
      "source": [
        "### Exercise\n",
        "\n",
        "Virtual assistants know about the functions in the `jupyturtle` module, but there are many versions of these functions, with different names, so a VA might not know which one you are talking about.\n",
        "\n",
        "To solve this problem, you can provide additional information before you ask a question.\n",
        "For example, you could start a prompt with \"Here's a program that uses the `jupyturtle` module,\" and then paste in one of the examples from this chapter.\n",
        "After that, the VA should be able to generate code that uses this module.\n",
        "\n",
        "As an example, ask a VA for a program that draws a Sierpiński triangle.\n",
        "The code you get should be a good starting place, but you might have to do some debugging.\n",
        "If the first attempt doesn't work, you can tell the VA what happened and ask for help -- or you can debug it yourself."
      ]
    },
    {
      "cell_type": "code",
      "execution_count": 54,
      "id": "68439acf",
      "metadata": {
        "colab": {
          "base_uri": "https://localhost:8080/",
          "height": 321
        },
        "id": "68439acf",
        "outputId": "e4978c0d-dc2f-4b87-f978-98b9fcbd1964"
      },
      "outputs": [
        {
          "output_type": "display_data",
          "data": {
            "text/plain": [
              "<IPython.core.display.HTML object>"
            ],
            "text/html": [
              "<svg width=\"300\" height=\"300\">\n",
              "    <rect width=\"100%\" height=\"100%\" fill=\"#F3F3F7\" />\n",
              "\n",
              "<line x1=\"70.0\" y1=\"110.0\" x2=\"82.5\" y2=\"131.7\"\n",
              "    stroke=\"#663399\" stroke-width=\"2\" />\n",
              "<line x1=\"82.5\" y1=\"131.7\" x2=\"95.0\" y2=\"110.0\"\n",
              "    stroke=\"#663399\" stroke-width=\"2\" />\n",
              "<line x1=\"95.0\" y1=\"110.0\" x2=\"70.0\" y2=\"110.0\"\n",
              "    stroke=\"#663399\" stroke-width=\"2\" />\n",
              "<line x1=\"70.0\" y1=\"110.0\" x2=\"82.5\" y2=\"131.7\"\n",
              "    stroke=\"#663399\" stroke-width=\"2\" />\n",
              "<line x1=\"82.5\" y1=\"131.7\" x2=\"95.0\" y2=\"153.3\"\n",
              "    stroke=\"#663399\" stroke-width=\"2\" />\n",
              "<line x1=\"95.0\" y1=\"153.3\" x2=\"107.5\" y2=\"131.7\"\n",
              "    stroke=\"#663399\" stroke-width=\"2\" />\n",
              "<line x1=\"107.5\" y1=\"131.7\" x2=\"82.5\" y2=\"131.7\"\n",
              "    stroke=\"#663399\" stroke-width=\"2\" />\n",
              "<line x1=\"82.5\" y1=\"131.7\" x2=\"95.0\" y2=\"110.0\"\n",
              "    stroke=\"#663399\" stroke-width=\"2\" />\n",
              "<line x1=\"95.0\" y1=\"110.0\" x2=\"107.5\" y2=\"131.7\"\n",
              "    stroke=\"#663399\" stroke-width=\"2\" />\n",
              "<line x1=\"107.5\" y1=\"131.7\" x2=\"120.0\" y2=\"110.0\"\n",
              "    stroke=\"#663399\" stroke-width=\"2\" />\n",
              "<line x1=\"120.0\" y1=\"110.0\" x2=\"95.0\" y2=\"110.0\"\n",
              "    stroke=\"#663399\" stroke-width=\"2\" />\n",
              "<line x1=\"95.0\" y1=\"110.0\" x2=\"70.0\" y2=\"110.0\"\n",
              "    stroke=\"#663399\" stroke-width=\"2\" />\n",
              "<line x1=\"70.0\" y1=\"110.0\" x2=\"95.0\" y2=\"153.3\"\n",
              "    stroke=\"#663399\" stroke-width=\"2\" />\n",
              "<line x1=\"95.0\" y1=\"153.3\" x2=\"107.5\" y2=\"175.0\"\n",
              "    stroke=\"#663399\" stroke-width=\"2\" />\n",
              "<line x1=\"107.5\" y1=\"175.0\" x2=\"120.0\" y2=\"153.3\"\n",
              "    stroke=\"#663399\" stroke-width=\"2\" />\n",
              "<line x1=\"120.0\" y1=\"153.3\" x2=\"95.0\" y2=\"153.3\"\n",
              "    stroke=\"#663399\" stroke-width=\"2\" />\n",
              "<line x1=\"95.0\" y1=\"153.3\" x2=\"107.5\" y2=\"175.0\"\n",
              "    stroke=\"#663399\" stroke-width=\"2\" />\n",
              "<line x1=\"107.5\" y1=\"175.0\" x2=\"120.0\" y2=\"196.6\"\n",
              "    stroke=\"#663399\" stroke-width=\"2\" />\n",
              "<line x1=\"120.0\" y1=\"196.6\" x2=\"132.5\" y2=\"175.0\"\n",
              "    stroke=\"#663399\" stroke-width=\"2\" />\n",
              "<line x1=\"132.5\" y1=\"175.0\" x2=\"107.5\" y2=\"175.0\"\n",
              "    stroke=\"#663399\" stroke-width=\"2\" />\n",
              "<line x1=\"107.5\" y1=\"175.0\" x2=\"120.0\" y2=\"153.3\"\n",
              "    stroke=\"#663399\" stroke-width=\"2\" />\n",
              "<line x1=\"120.0\" y1=\"153.3\" x2=\"132.5\" y2=\"175.0\"\n",
              "    stroke=\"#663399\" stroke-width=\"2\" />\n",
              "<line x1=\"132.5\" y1=\"175.0\" x2=\"145.0\" y2=\"153.3\"\n",
              "    stroke=\"#663399\" stroke-width=\"2\" />\n",
              "<line x1=\"145.0\" y1=\"153.3\" x2=\"120.0\" y2=\"153.3\"\n",
              "    stroke=\"#663399\" stroke-width=\"2\" />\n",
              "<line x1=\"120.0\" y1=\"153.3\" x2=\"95.0\" y2=\"153.3\"\n",
              "    stroke=\"#663399\" stroke-width=\"2\" />\n",
              "<line x1=\"95.0\" y1=\"153.3\" x2=\"120.0\" y2=\"110.0\"\n",
              "    stroke=\"#663399\" stroke-width=\"2\" />\n",
              "<line x1=\"120.0\" y1=\"110.0\" x2=\"132.5\" y2=\"131.7\"\n",
              "    stroke=\"#663399\" stroke-width=\"2\" />\n",
              "<line x1=\"132.5\" y1=\"131.7\" x2=\"145.0\" y2=\"110.0\"\n",
              "    stroke=\"#663399\" stroke-width=\"2\" />\n",
              "<line x1=\"145.0\" y1=\"110.0\" x2=\"120.0\" y2=\"110.0\"\n",
              "    stroke=\"#663399\" stroke-width=\"2\" />\n",
              "<line x1=\"120.0\" y1=\"110.0\" x2=\"132.5\" y2=\"131.7\"\n",
              "    stroke=\"#663399\" stroke-width=\"2\" />\n",
              "<line x1=\"132.5\" y1=\"131.7\" x2=\"145.0\" y2=\"153.3\"\n",
              "    stroke=\"#663399\" stroke-width=\"2\" />\n",
              "<line x1=\"145.0\" y1=\"153.3\" x2=\"157.5\" y2=\"131.7\"\n",
              "    stroke=\"#663399\" stroke-width=\"2\" />\n",
              "<line x1=\"157.5\" y1=\"131.7\" x2=\"132.5\" y2=\"131.7\"\n",
              "    stroke=\"#663399\" stroke-width=\"2\" />\n",
              "<line x1=\"132.5\" y1=\"131.7\" x2=\"145.0\" y2=\"110.0\"\n",
              "    stroke=\"#663399\" stroke-width=\"2\" />\n",
              "<line x1=\"145.0\" y1=\"110.0\" x2=\"157.5\" y2=\"131.7\"\n",
              "    stroke=\"#663399\" stroke-width=\"2\" />\n",
              "<line x1=\"157.5\" y1=\"131.7\" x2=\"170.0\" y2=\"110.0\"\n",
              "    stroke=\"#663399\" stroke-width=\"2\" />\n",
              "<line x1=\"170.0\" y1=\"110.0\" x2=\"145.0\" y2=\"110.0\"\n",
              "    stroke=\"#663399\" stroke-width=\"2\" />\n",
              "<line x1=\"145.0\" y1=\"110.0\" x2=\"120.0\" y2=\"110.0\"\n",
              "    stroke=\"#663399\" stroke-width=\"2\" />\n",
              "<line x1=\"120.0\" y1=\"110.0\" x2=\"70.0\" y2=\"110.0\"\n",
              "    stroke=\"#663399\" stroke-width=\"2\" />\n",
              "<line x1=\"70.0\" y1=\"110.0\" x2=\"120.0\" y2=\"196.6\"\n",
              "    stroke=\"#663399\" stroke-width=\"2\" />\n",
              "<line x1=\"120.0\" y1=\"196.6\" x2=\"132.5\" y2=\"218.3\"\n",
              "    stroke=\"#663399\" stroke-width=\"2\" />\n",
              "<line x1=\"132.5\" y1=\"218.3\" x2=\"145.0\" y2=\"196.6\"\n",
              "    stroke=\"#663399\" stroke-width=\"2\" />\n",
              "<line x1=\"145.0\" y1=\"196.6\" x2=\"120.0\" y2=\"196.6\"\n",
              "    stroke=\"#663399\" stroke-width=\"2\" />\n",
              "<line x1=\"120.0\" y1=\"196.6\" x2=\"132.5\" y2=\"218.3\"\n",
              "    stroke=\"#663399\" stroke-width=\"2\" />\n",
              "<line x1=\"132.5\" y1=\"218.3\" x2=\"145.0\" y2=\"239.9\"\n",
              "    stroke=\"#663399\" stroke-width=\"2\" />\n",
              "<line x1=\"145.0\" y1=\"239.9\" x2=\"157.5\" y2=\"218.3\"\n",
              "    stroke=\"#663399\" stroke-width=\"2\" />\n",
              "<line x1=\"157.5\" y1=\"218.3\" x2=\"132.5\" y2=\"218.3\"\n",
              "    stroke=\"#663399\" stroke-width=\"2\" />\n",
              "<line x1=\"132.5\" y1=\"218.3\" x2=\"145.0\" y2=\"196.6\"\n",
              "    stroke=\"#663399\" stroke-width=\"2\" />\n",
              "<line x1=\"145.0\" y1=\"196.6\" x2=\"157.5\" y2=\"218.3\"\n",
              "    stroke=\"#663399\" stroke-width=\"2\" />\n",
              "<line x1=\"157.5\" y1=\"218.3\" x2=\"170.0\" y2=\"196.6\"\n",
              "    stroke=\"#663399\" stroke-width=\"2\" />\n",
              "<line x1=\"170.0\" y1=\"196.6\" x2=\"145.0\" y2=\"196.6\"\n",
              "    stroke=\"#663399\" stroke-width=\"2\" />\n",
              "<line x1=\"145.0\" y1=\"196.6\" x2=\"120.0\" y2=\"196.6\"\n",
              "    stroke=\"#663399\" stroke-width=\"2\" />\n",
              "<line x1=\"120.0\" y1=\"196.6\" x2=\"145.0\" y2=\"239.9\"\n",
              "    stroke=\"#663399\" stroke-width=\"2\" />\n",
              "<line x1=\"145.0\" y1=\"239.9\" x2=\"157.5\" y2=\"261.6\"\n",
              "    stroke=\"#663399\" stroke-width=\"2\" />\n",
              "<line x1=\"157.5\" y1=\"261.6\" x2=\"170.0\" y2=\"239.9\"\n",
              "    stroke=\"#663399\" stroke-width=\"2\" />\n",
              "<line x1=\"170.0\" y1=\"239.9\" x2=\"145.0\" y2=\"239.9\"\n",
              "    stroke=\"#663399\" stroke-width=\"2\" />\n",
              "<line x1=\"145.0\" y1=\"239.9\" x2=\"157.5\" y2=\"261.6\"\n",
              "    stroke=\"#663399\" stroke-width=\"2\" />\n",
              "<line x1=\"157.5\" y1=\"261.6\" x2=\"170.0\" y2=\"283.2\"\n",
              "    stroke=\"#663399\" stroke-width=\"2\" />\n",
              "<line x1=\"170.0\" y1=\"283.2\" x2=\"182.5\" y2=\"261.6\"\n",
              "    stroke=\"#663399\" stroke-width=\"2\" />\n",
              "<line x1=\"182.5\" y1=\"261.6\" x2=\"157.5\" y2=\"261.6\"\n",
              "    stroke=\"#663399\" stroke-width=\"2\" />\n",
              "<line x1=\"157.5\" y1=\"261.6\" x2=\"170.0\" y2=\"239.9\"\n",
              "    stroke=\"#663399\" stroke-width=\"2\" />\n",
              "<line x1=\"170.0\" y1=\"239.9\" x2=\"182.5\" y2=\"261.6\"\n",
              "    stroke=\"#663399\" stroke-width=\"2\" />\n",
              "<line x1=\"182.5\" y1=\"261.6\" x2=\"195.0\" y2=\"239.9\"\n",
              "    stroke=\"#663399\" stroke-width=\"2\" />\n",
              "<line x1=\"195.0\" y1=\"239.9\" x2=\"170.0\" y2=\"239.9\"\n",
              "    stroke=\"#663399\" stroke-width=\"2\" />\n",
              "<line x1=\"170.0\" y1=\"239.9\" x2=\"145.0\" y2=\"239.9\"\n",
              "    stroke=\"#663399\" stroke-width=\"2\" />\n",
              "<line x1=\"145.0\" y1=\"239.9\" x2=\"170.0\" y2=\"196.6\"\n",
              "    stroke=\"#663399\" stroke-width=\"2\" />\n",
              "<line x1=\"170.0\" y1=\"196.6\" x2=\"182.5\" y2=\"218.3\"\n",
              "    stroke=\"#663399\" stroke-width=\"2\" />\n",
              "<line x1=\"182.5\" y1=\"218.3\" x2=\"195.0\" y2=\"196.6\"\n",
              "    stroke=\"#663399\" stroke-width=\"2\" />\n",
              "<line x1=\"195.0\" y1=\"196.6\" x2=\"170.0\" y2=\"196.6\"\n",
              "    stroke=\"#663399\" stroke-width=\"2\" />\n",
              "<line x1=\"170.0\" y1=\"196.6\" x2=\"182.5\" y2=\"218.3\"\n",
              "    stroke=\"#663399\" stroke-width=\"2\" />\n",
              "<line x1=\"182.5\" y1=\"218.3\" x2=\"195.0\" y2=\"239.9\"\n",
              "    stroke=\"#663399\" stroke-width=\"2\" />\n",
              "<line x1=\"195.0\" y1=\"239.9\" x2=\"207.5\" y2=\"218.3\"\n",
              "    stroke=\"#663399\" stroke-width=\"2\" />\n",
              "<line x1=\"207.5\" y1=\"218.3\" x2=\"182.5\" y2=\"218.3\"\n",
              "    stroke=\"#663399\" stroke-width=\"2\" />\n",
              "<line x1=\"182.5\" y1=\"218.3\" x2=\"195.0\" y2=\"196.6\"\n",
              "    stroke=\"#663399\" stroke-width=\"2\" />\n",
              "<line x1=\"195.0\" y1=\"196.6\" x2=\"207.5\" y2=\"218.3\"\n",
              "    stroke=\"#663399\" stroke-width=\"2\" />\n",
              "<line x1=\"207.5\" y1=\"218.3\" x2=\"220.0\" y2=\"196.6\"\n",
              "    stroke=\"#663399\" stroke-width=\"2\" />\n",
              "<line x1=\"220.0\" y1=\"196.6\" x2=\"195.0\" y2=\"196.6\"\n",
              "    stroke=\"#663399\" stroke-width=\"2\" />\n",
              "<line x1=\"195.0\" y1=\"196.6\" x2=\"170.0\" y2=\"196.6\"\n",
              "    stroke=\"#663399\" stroke-width=\"2\" />\n",
              "<line x1=\"170.0\" y1=\"196.6\" x2=\"120.0\" y2=\"196.6\"\n",
              "    stroke=\"#663399\" stroke-width=\"2\" />\n",
              "<line x1=\"120.0\" y1=\"196.6\" x2=\"170.0\" y2=\"110.0\"\n",
              "    stroke=\"#663399\" stroke-width=\"2\" />\n",
              "<line x1=\"170.0\" y1=\"110.0\" x2=\"182.5\" y2=\"131.7\"\n",
              "    stroke=\"#663399\" stroke-width=\"2\" />\n",
              "<line x1=\"182.5\" y1=\"131.7\" x2=\"195.0\" y2=\"110.0\"\n",
              "    stroke=\"#663399\" stroke-width=\"2\" />\n",
              "<line x1=\"195.0\" y1=\"110.0\" x2=\"170.0\" y2=\"110.0\"\n",
              "    stroke=\"#663399\" stroke-width=\"2\" />\n",
              "<line x1=\"170.0\" y1=\"110.0\" x2=\"182.5\" y2=\"131.7\"\n",
              "    stroke=\"#663399\" stroke-width=\"2\" />\n",
              "<line x1=\"182.5\" y1=\"131.7\" x2=\"195.0\" y2=\"153.3\"\n",
              "    stroke=\"#663399\" stroke-width=\"2\" />\n",
              "<line x1=\"195.0\" y1=\"153.3\" x2=\"207.5\" y2=\"131.7\"\n",
              "    stroke=\"#663399\" stroke-width=\"2\" />\n",
              "<line x1=\"207.5\" y1=\"131.7\" x2=\"182.5\" y2=\"131.7\"\n",
              "    stroke=\"#663399\" stroke-width=\"2\" />\n",
              "<line x1=\"182.5\" y1=\"131.7\" x2=\"195.0\" y2=\"110.0\"\n",
              "    stroke=\"#663399\" stroke-width=\"2\" />\n",
              "<line x1=\"195.0\" y1=\"110.0\" x2=\"207.5\" y2=\"131.7\"\n",
              "    stroke=\"#663399\" stroke-width=\"2\" />\n",
              "<line x1=\"207.5\" y1=\"131.7\" x2=\"220.0\" y2=\"110.0\"\n",
              "    stroke=\"#663399\" stroke-width=\"2\" />\n",
              "<line x1=\"220.0\" y1=\"110.0\" x2=\"195.0\" y2=\"110.0\"\n",
              "    stroke=\"#663399\" stroke-width=\"2\" />\n",
              "<line x1=\"195.0\" y1=\"110.0\" x2=\"170.0\" y2=\"110.0\"\n",
              "    stroke=\"#663399\" stroke-width=\"2\" />\n",
              "<line x1=\"170.0\" y1=\"110.0\" x2=\"195.0\" y2=\"153.3\"\n",
              "    stroke=\"#663399\" stroke-width=\"2\" />\n",
              "<line x1=\"195.0\" y1=\"153.3\" x2=\"207.5\" y2=\"175.0\"\n",
              "    stroke=\"#663399\" stroke-width=\"2\" />\n",
              "<line x1=\"207.5\" y1=\"175.0\" x2=\"220.0\" y2=\"153.3\"\n",
              "    stroke=\"#663399\" stroke-width=\"2\" />\n",
              "<line x1=\"220.0\" y1=\"153.3\" x2=\"195.0\" y2=\"153.3\"\n",
              "    stroke=\"#663399\" stroke-width=\"2\" />\n",
              "<line x1=\"195.0\" y1=\"153.3\" x2=\"207.5\" y2=\"175.0\"\n",
              "    stroke=\"#663399\" stroke-width=\"2\" />\n",
              "<line x1=\"207.5\" y1=\"175.0\" x2=\"220.0\" y2=\"196.6\"\n",
              "    stroke=\"#663399\" stroke-width=\"2\" />\n",
              "<line x1=\"220.0\" y1=\"196.6\" x2=\"232.5\" y2=\"175.0\"\n",
              "    stroke=\"#663399\" stroke-width=\"2\" />\n",
              "<line x1=\"232.5\" y1=\"175.0\" x2=\"207.5\" y2=\"175.0\"\n",
              "    stroke=\"#663399\" stroke-width=\"2\" />\n",
              "<line x1=\"207.5\" y1=\"175.0\" x2=\"220.0\" y2=\"153.3\"\n",
              "    stroke=\"#663399\" stroke-width=\"2\" />\n",
              "<line x1=\"220.0\" y1=\"153.3\" x2=\"232.5\" y2=\"175.0\"\n",
              "    stroke=\"#663399\" stroke-width=\"2\" />\n",
              "<line x1=\"232.5\" y1=\"175.0\" x2=\"245.0\" y2=\"153.3\"\n",
              "    stroke=\"#663399\" stroke-width=\"2\" />\n",
              "<line x1=\"245.0\" y1=\"153.3\" x2=\"220.0\" y2=\"153.3\"\n",
              "    stroke=\"#663399\" stroke-width=\"2\" />\n",
              "<line x1=\"220.0\" y1=\"153.3\" x2=\"195.0\" y2=\"153.3\"\n",
              "    stroke=\"#663399\" stroke-width=\"2\" />\n",
              "<line x1=\"195.0\" y1=\"153.3\" x2=\"220.0\" y2=\"110.0\"\n",
              "    stroke=\"#663399\" stroke-width=\"2\" />\n",
              "<line x1=\"220.0\" y1=\"110.0\" x2=\"232.5\" y2=\"131.7\"\n",
              "    stroke=\"#663399\" stroke-width=\"2\" />\n",
              "<line x1=\"232.5\" y1=\"131.7\" x2=\"245.0\" y2=\"110.0\"\n",
              "    stroke=\"#663399\" stroke-width=\"2\" />\n",
              "<line x1=\"245.0\" y1=\"110.0\" x2=\"220.0\" y2=\"110.0\"\n",
              "    stroke=\"#663399\" stroke-width=\"2\" />\n",
              "<line x1=\"220.0\" y1=\"110.0\" x2=\"232.5\" y2=\"131.7\"\n",
              "    stroke=\"#663399\" stroke-width=\"2\" />\n",
              "<line x1=\"232.5\" y1=\"131.7\" x2=\"245.0\" y2=\"153.3\"\n",
              "    stroke=\"#663399\" stroke-width=\"2\" />\n",
              "<line x1=\"245.0\" y1=\"153.3\" x2=\"257.5\" y2=\"131.7\"\n",
              "    stroke=\"#663399\" stroke-width=\"2\" />\n",
              "<line x1=\"257.5\" y1=\"131.7\" x2=\"232.5\" y2=\"131.7\"\n",
              "    stroke=\"#663399\" stroke-width=\"2\" />\n",
              "<line x1=\"232.5\" y1=\"131.7\" x2=\"245.0\" y2=\"110.0\"\n",
              "    stroke=\"#663399\" stroke-width=\"2\" />\n",
              "<line x1=\"245.0\" y1=\"110.0\" x2=\"257.5\" y2=\"131.7\"\n",
              "    stroke=\"#663399\" stroke-width=\"2\" />\n",
              "<line x1=\"257.5\" y1=\"131.7\" x2=\"270.0\" y2=\"110.0\"\n",
              "    stroke=\"#663399\" stroke-width=\"2\" />\n",
              "<line x1=\"270.0\" y1=\"110.0\" x2=\"245.0\" y2=\"110.0\"\n",
              "    stroke=\"#663399\" stroke-width=\"2\" />\n",
              "<line x1=\"245.0\" y1=\"110.0\" x2=\"220.0\" y2=\"110.0\"\n",
              "    stroke=\"#663399\" stroke-width=\"2\" />\n",
              "<line x1=\"220.0\" y1=\"110.0\" x2=\"170.0\" y2=\"110.0\"\n",
              "    stroke=\"#663399\" stroke-width=\"2\" />\n",
              "<line x1=\"170.0\" y1=\"110.0\" x2=\"70.0\" y2=\"110.0\"\n",
              "    stroke=\"#663399\" stroke-width=\"2\" />\n",
              "\n",
              "<g transform=\"rotate(-30.0,70.0,110.0) translate(70.0, 110.0)\">\n",
              "    <circle stroke=\"#63A375\" stroke-width=\"2\" fill=\"transparent\" r=\"5.5\" cx=\"0\" cy=\"0\"/>\n",
              "    <polygon points=\"0,12 2,9 -2,9\" style=\"fill:#63A375;stroke:#63A375;stroke-width:2\"/>\n",
              "</g>\n",
              "\n",
              "</svg>"
            ]
          },
          "metadata": {}
        }
      ],
      "source": [
        "# Solution goes here\n",
        "from jupyturtle import forward, left, penup, pendown\n",
        "\n",
        "def sierpinski(length, depth):\n",
        "    if depth == 0:\n",
        "        for i in range(3):\n",
        "            forward(length)\n",
        "            left(120)\n",
        "    else:\n",
        "        sierpinski(length / 2, depth - 1)\n",
        "        forward(length / 2)\n",
        "        sierpinski(length / 2, depth - 1)\n",
        "        left(120)  # Turn before drawing the third side\n",
        "        forward(length / 2)\n",
        "        right(120)  # Turn back to the original direction\n",
        "        sierpinski(length / 2, depth - 1)\n",
        "        right(120)  # Turn before drawing back to the starting point\n",
        "        forward(length / 2)\n",
        "        left(120) # Turn back to the original direction\n",
        "\n",
        "from jupyturtle import make_turtle\n",
        "make_turtle(delay=0, height=300)\n",
        "\n",
        "penup()\n",
        "# Center the triangle horizontally\n",
        "forward(-80)  # Adjust this value if needed for better centering\n",
        "left(90)\n",
        "# Center the triangle vertically\n",
        "forward(40)    # Adjust this value if needed for better centering\n",
        "# Set initial turtle direction\n",
        "right(150)\n",
        "pendown()\n",
        "\n",
        "sierpinski(200, 3)  # Adjust length and depth as desired\n"
      ]
    },
    {
      "cell_type": "markdown",
      "id": "6a95097a",
      "metadata": {
        "id": "6a95097a"
      },
      "source": [
        "Here's what the result might look like, although the version you get might be different."
      ]
    },
    {
      "cell_type": "code",
      "execution_count": 55,
      "id": "43470b3d",
      "metadata": {
        "colab": {
          "base_uri": "https://localhost:8080/",
          "height": 221
        },
        "id": "43470b3d",
        "outputId": "201da0ab-7477-4ddf-9750-b0468dcf41d5"
      },
      "outputs": [
        {
          "output_type": "display_data",
          "data": {
            "text/plain": [
              "<IPython.core.display.HTML object>"
            ],
            "text/html": [
              "<svg width=\"300\" height=\"200\">\n",
              "    <rect width=\"100%\" height=\"100%\" fill=\"#F3F3F7\" />\n",
              "\n",
              "<line x1=\"150\" y1=\"100\" x2=\"162.5\" y2=\"100.0\"\n",
              "    stroke=\"#663399\" stroke-width=\"2\" />\n",
              "<line x1=\"162.5\" y1=\"100.0\" x2=\"156.2\" y2=\"89.2\"\n",
              "    stroke=\"#663399\" stroke-width=\"2\" />\n",
              "<line x1=\"156.2\" y1=\"89.2\" x2=\"150.0\" y2=\"100.0\"\n",
              "    stroke=\"#663399\" stroke-width=\"2\" />\n",
              "<line x1=\"150.0\" y1=\"100.0\" x2=\"162.5\" y2=\"100.0\"\n",
              "    stroke=\"#663399\" stroke-width=\"2\" />\n",
              "<line x1=\"162.5\" y1=\"100.0\" x2=\"175.0\" y2=\"100.0\"\n",
              "    stroke=\"#663399\" stroke-width=\"2\" />\n",
              "<line x1=\"175.0\" y1=\"100.0\" x2=\"168.8\" y2=\"89.2\"\n",
              "    stroke=\"#663399\" stroke-width=\"2\" />\n",
              "<line x1=\"168.8\" y1=\"89.2\" x2=\"162.5\" y2=\"100.0\"\n",
              "    stroke=\"#663399\" stroke-width=\"2\" />\n",
              "<line x1=\"162.5\" y1=\"100.0\" x2=\"156.2\" y2=\"89.2\"\n",
              "    stroke=\"#663399\" stroke-width=\"2\" />\n",
              "<line x1=\"156.2\" y1=\"89.2\" x2=\"168.8\" y2=\"89.2\"\n",
              "    stroke=\"#663399\" stroke-width=\"2\" />\n",
              "<line x1=\"168.8\" y1=\"89.2\" x2=\"162.5\" y2=\"78.3\"\n",
              "    stroke=\"#663399\" stroke-width=\"2\" />\n",
              "<line x1=\"162.5\" y1=\"78.3\" x2=\"156.2\" y2=\"89.2\"\n",
              "    stroke=\"#663399\" stroke-width=\"2\" />\n",
              "<line x1=\"156.2\" y1=\"89.2\" x2=\"150.0\" y2=\"100.0\"\n",
              "    stroke=\"#663399\" stroke-width=\"2\" />\n",
              "<line x1=\"150.0\" y1=\"100.0\" x2=\"175.0\" y2=\"100.0\"\n",
              "    stroke=\"#663399\" stroke-width=\"2\" />\n",
              "<line x1=\"175.0\" y1=\"100.0\" x2=\"187.5\" y2=\"100.0\"\n",
              "    stroke=\"#663399\" stroke-width=\"2\" />\n",
              "<line x1=\"187.5\" y1=\"100.0\" x2=\"181.2\" y2=\"89.2\"\n",
              "    stroke=\"#663399\" stroke-width=\"2\" />\n",
              "<line x1=\"181.2\" y1=\"89.2\" x2=\"175.0\" y2=\"100.0\"\n",
              "    stroke=\"#663399\" stroke-width=\"2\" />\n",
              "<line x1=\"175.0\" y1=\"100.0\" x2=\"187.5\" y2=\"100.0\"\n",
              "    stroke=\"#663399\" stroke-width=\"2\" />\n",
              "<line x1=\"187.5\" y1=\"100.0\" x2=\"200.0\" y2=\"100.0\"\n",
              "    stroke=\"#663399\" stroke-width=\"2\" />\n",
              "<line x1=\"200.0\" y1=\"100.0\" x2=\"193.8\" y2=\"89.2\"\n",
              "    stroke=\"#663399\" stroke-width=\"2\" />\n",
              "<line x1=\"193.8\" y1=\"89.2\" x2=\"187.5\" y2=\"100.0\"\n",
              "    stroke=\"#663399\" stroke-width=\"2\" />\n",
              "<line x1=\"187.5\" y1=\"100.0\" x2=\"181.2\" y2=\"89.2\"\n",
              "    stroke=\"#663399\" stroke-width=\"2\" />\n",
              "<line x1=\"181.2\" y1=\"89.2\" x2=\"193.8\" y2=\"89.2\"\n",
              "    stroke=\"#663399\" stroke-width=\"2\" />\n",
              "<line x1=\"193.8\" y1=\"89.2\" x2=\"187.5\" y2=\"78.3\"\n",
              "    stroke=\"#663399\" stroke-width=\"2\" />\n",
              "<line x1=\"187.5\" y1=\"78.3\" x2=\"181.2\" y2=\"89.2\"\n",
              "    stroke=\"#663399\" stroke-width=\"2\" />\n",
              "<line x1=\"181.2\" y1=\"89.2\" x2=\"175.0\" y2=\"100.0\"\n",
              "    stroke=\"#663399\" stroke-width=\"2\" />\n",
              "<line x1=\"175.0\" y1=\"100.0\" x2=\"162.5\" y2=\"78.3\"\n",
              "    stroke=\"#663399\" stroke-width=\"2\" />\n",
              "<line x1=\"162.5\" y1=\"78.3\" x2=\"175.0\" y2=\"78.3\"\n",
              "    stroke=\"#663399\" stroke-width=\"2\" />\n",
              "<line x1=\"175.0\" y1=\"78.3\" x2=\"168.8\" y2=\"67.5\"\n",
              "    stroke=\"#663399\" stroke-width=\"2\" />\n",
              "<line x1=\"168.8\" y1=\"67.5\" x2=\"162.5\" y2=\"78.3\"\n",
              "    stroke=\"#663399\" stroke-width=\"2\" />\n",
              "<line x1=\"162.5\" y1=\"78.3\" x2=\"175.0\" y2=\"78.3\"\n",
              "    stroke=\"#663399\" stroke-width=\"2\" />\n",
              "<line x1=\"175.0\" y1=\"78.3\" x2=\"187.5\" y2=\"78.3\"\n",
              "    stroke=\"#663399\" stroke-width=\"2\" />\n",
              "<line x1=\"187.5\" y1=\"78.3\" x2=\"181.2\" y2=\"67.5\"\n",
              "    stroke=\"#663399\" stroke-width=\"2\" />\n",
              "<line x1=\"181.2\" y1=\"67.5\" x2=\"175.0\" y2=\"78.3\"\n",
              "    stroke=\"#663399\" stroke-width=\"2\" />\n",
              "<line x1=\"175.0\" y1=\"78.3\" x2=\"168.8\" y2=\"67.5\"\n",
              "    stroke=\"#663399\" stroke-width=\"2\" />\n",
              "<line x1=\"168.8\" y1=\"67.5\" x2=\"181.2\" y2=\"67.5\"\n",
              "    stroke=\"#663399\" stroke-width=\"2\" />\n",
              "<line x1=\"181.2\" y1=\"67.5\" x2=\"175.0\" y2=\"56.7\"\n",
              "    stroke=\"#663399\" stroke-width=\"2\" />\n",
              "<line x1=\"175.0\" y1=\"56.7\" x2=\"168.8\" y2=\"67.5\"\n",
              "    stroke=\"#663399\" stroke-width=\"2\" />\n",
              "<line x1=\"168.8\" y1=\"67.5\" x2=\"162.5\" y2=\"78.3\"\n",
              "    stroke=\"#663399\" stroke-width=\"2\" />\n",
              "<line x1=\"162.5\" y1=\"78.3\" x2=\"150.0\" y2=\"100.0\"\n",
              "    stroke=\"#663399\" stroke-width=\"2\" />\n",
              "<line x1=\"150.0\" y1=\"100.0\" x2=\"200.0\" y2=\"100.0\"\n",
              "    stroke=\"#663399\" stroke-width=\"2\" />\n",
              "<line x1=\"200.0\" y1=\"100.0\" x2=\"212.5\" y2=\"100.0\"\n",
              "    stroke=\"#663399\" stroke-width=\"2\" />\n",
              "<line x1=\"212.5\" y1=\"100.0\" x2=\"206.2\" y2=\"89.2\"\n",
              "    stroke=\"#663399\" stroke-width=\"2\" />\n",
              "<line x1=\"206.2\" y1=\"89.2\" x2=\"200.0\" y2=\"100.0\"\n",
              "    stroke=\"#663399\" stroke-width=\"2\" />\n",
              "<line x1=\"200.0\" y1=\"100.0\" x2=\"212.5\" y2=\"100.0\"\n",
              "    stroke=\"#663399\" stroke-width=\"2\" />\n",
              "<line x1=\"212.5\" y1=\"100.0\" x2=\"225.0\" y2=\"100.0\"\n",
              "    stroke=\"#663399\" stroke-width=\"2\" />\n",
              "<line x1=\"225.0\" y1=\"100.0\" x2=\"218.8\" y2=\"89.2\"\n",
              "    stroke=\"#663399\" stroke-width=\"2\" />\n",
              "<line x1=\"218.8\" y1=\"89.2\" x2=\"212.5\" y2=\"100.0\"\n",
              "    stroke=\"#663399\" stroke-width=\"2\" />\n",
              "<line x1=\"212.5\" y1=\"100.0\" x2=\"206.2\" y2=\"89.2\"\n",
              "    stroke=\"#663399\" stroke-width=\"2\" />\n",
              "<line x1=\"206.2\" y1=\"89.2\" x2=\"218.8\" y2=\"89.2\"\n",
              "    stroke=\"#663399\" stroke-width=\"2\" />\n",
              "<line x1=\"218.8\" y1=\"89.2\" x2=\"212.5\" y2=\"78.3\"\n",
              "    stroke=\"#663399\" stroke-width=\"2\" />\n",
              "<line x1=\"212.5\" y1=\"78.3\" x2=\"206.2\" y2=\"89.2\"\n",
              "    stroke=\"#663399\" stroke-width=\"2\" />\n",
              "<line x1=\"206.2\" y1=\"89.2\" x2=\"200.0\" y2=\"100.0\"\n",
              "    stroke=\"#663399\" stroke-width=\"2\" />\n",
              "<line x1=\"200.0\" y1=\"100.0\" x2=\"225.0\" y2=\"100.0\"\n",
              "    stroke=\"#663399\" stroke-width=\"2\" />\n",
              "<line x1=\"225.0\" y1=\"100.0\" x2=\"237.5\" y2=\"100.0\"\n",
              "    stroke=\"#663399\" stroke-width=\"2\" />\n",
              "<line x1=\"237.5\" y1=\"100.0\" x2=\"231.2\" y2=\"89.2\"\n",
              "    stroke=\"#663399\" stroke-width=\"2\" />\n",
              "<line x1=\"231.2\" y1=\"89.2\" x2=\"225.0\" y2=\"100.0\"\n",
              "    stroke=\"#663399\" stroke-width=\"2\" />\n",
              "<line x1=\"225.0\" y1=\"100.0\" x2=\"237.5\" y2=\"100.0\"\n",
              "    stroke=\"#663399\" stroke-width=\"2\" />\n",
              "<line x1=\"237.5\" y1=\"100.0\" x2=\"250.0\" y2=\"100.0\"\n",
              "    stroke=\"#663399\" stroke-width=\"2\" />\n",
              "<line x1=\"250.0\" y1=\"100.0\" x2=\"243.8\" y2=\"89.2\"\n",
              "    stroke=\"#663399\" stroke-width=\"2\" />\n",
              "<line x1=\"243.8\" y1=\"89.2\" x2=\"237.5\" y2=\"100.0\"\n",
              "    stroke=\"#663399\" stroke-width=\"2\" />\n",
              "<line x1=\"237.5\" y1=\"100.0\" x2=\"231.2\" y2=\"89.2\"\n",
              "    stroke=\"#663399\" stroke-width=\"2\" />\n",
              "<line x1=\"231.2\" y1=\"89.2\" x2=\"243.8\" y2=\"89.2\"\n",
              "    stroke=\"#663399\" stroke-width=\"2\" />\n",
              "<line x1=\"243.8\" y1=\"89.2\" x2=\"237.5\" y2=\"78.3\"\n",
              "    stroke=\"#663399\" stroke-width=\"2\" />\n",
              "<line x1=\"237.5\" y1=\"78.3\" x2=\"231.2\" y2=\"89.2\"\n",
              "    stroke=\"#663399\" stroke-width=\"2\" />\n",
              "<line x1=\"231.2\" y1=\"89.2\" x2=\"225.0\" y2=\"100.0\"\n",
              "    stroke=\"#663399\" stroke-width=\"2\" />\n",
              "<line x1=\"225.0\" y1=\"100.0\" x2=\"212.5\" y2=\"78.3\"\n",
              "    stroke=\"#663399\" stroke-width=\"2\" />\n",
              "<line x1=\"212.5\" y1=\"78.3\" x2=\"225.0\" y2=\"78.3\"\n",
              "    stroke=\"#663399\" stroke-width=\"2\" />\n",
              "<line x1=\"225.0\" y1=\"78.3\" x2=\"218.8\" y2=\"67.5\"\n",
              "    stroke=\"#663399\" stroke-width=\"2\" />\n",
              "<line x1=\"218.8\" y1=\"67.5\" x2=\"212.5\" y2=\"78.3\"\n",
              "    stroke=\"#663399\" stroke-width=\"2\" />\n",
              "<line x1=\"212.5\" y1=\"78.3\" x2=\"225.0\" y2=\"78.3\"\n",
              "    stroke=\"#663399\" stroke-width=\"2\" />\n",
              "<line x1=\"225.0\" y1=\"78.3\" x2=\"237.5\" y2=\"78.3\"\n",
              "    stroke=\"#663399\" stroke-width=\"2\" />\n",
              "<line x1=\"237.5\" y1=\"78.3\" x2=\"231.2\" y2=\"67.5\"\n",
              "    stroke=\"#663399\" stroke-width=\"2\" />\n",
              "<line x1=\"231.2\" y1=\"67.5\" x2=\"225.0\" y2=\"78.3\"\n",
              "    stroke=\"#663399\" stroke-width=\"2\" />\n",
              "<line x1=\"225.0\" y1=\"78.3\" x2=\"218.8\" y2=\"67.5\"\n",
              "    stroke=\"#663399\" stroke-width=\"2\" />\n",
              "<line x1=\"218.8\" y1=\"67.5\" x2=\"231.2\" y2=\"67.5\"\n",
              "    stroke=\"#663399\" stroke-width=\"2\" />\n",
              "<line x1=\"231.2\" y1=\"67.5\" x2=\"225.0\" y2=\"56.7\"\n",
              "    stroke=\"#663399\" stroke-width=\"2\" />\n",
              "<line x1=\"225.0\" y1=\"56.7\" x2=\"218.8\" y2=\"67.5\"\n",
              "    stroke=\"#663399\" stroke-width=\"2\" />\n",
              "<line x1=\"218.8\" y1=\"67.5\" x2=\"212.5\" y2=\"78.3\"\n",
              "    stroke=\"#663399\" stroke-width=\"2\" />\n",
              "<line x1=\"212.5\" y1=\"78.3\" x2=\"200.0\" y2=\"100.0\"\n",
              "    stroke=\"#663399\" stroke-width=\"2\" />\n",
              "<line x1=\"200.0\" y1=\"100.0\" x2=\"175.0\" y2=\"56.7\"\n",
              "    stroke=\"#663399\" stroke-width=\"2\" />\n",
              "<line x1=\"175.0\" y1=\"56.7\" x2=\"187.5\" y2=\"56.7\"\n",
              "    stroke=\"#663399\" stroke-width=\"2\" />\n",
              "<line x1=\"187.5\" y1=\"56.7\" x2=\"181.2\" y2=\"45.9\"\n",
              "    stroke=\"#663399\" stroke-width=\"2\" />\n",
              "<line x1=\"181.2\" y1=\"45.9\" x2=\"175.0\" y2=\"56.7\"\n",
              "    stroke=\"#663399\" stroke-width=\"2\" />\n",
              "<line x1=\"175.0\" y1=\"56.7\" x2=\"187.5\" y2=\"56.7\"\n",
              "    stroke=\"#663399\" stroke-width=\"2\" />\n",
              "<line x1=\"187.5\" y1=\"56.7\" x2=\"200.0\" y2=\"56.7\"\n",
              "    stroke=\"#663399\" stroke-width=\"2\" />\n",
              "<line x1=\"200.0\" y1=\"56.7\" x2=\"193.7\" y2=\"45.9\"\n",
              "    stroke=\"#663399\" stroke-width=\"2\" />\n",
              "<line x1=\"193.7\" y1=\"45.9\" x2=\"187.5\" y2=\"56.7\"\n",
              "    stroke=\"#663399\" stroke-width=\"2\" />\n",
              "<line x1=\"187.5\" y1=\"56.7\" x2=\"181.2\" y2=\"45.9\"\n",
              "    stroke=\"#663399\" stroke-width=\"2\" />\n",
              "<line x1=\"181.2\" y1=\"45.9\" x2=\"193.7\" y2=\"45.9\"\n",
              "    stroke=\"#663399\" stroke-width=\"2\" />\n",
              "<line x1=\"193.7\" y1=\"45.9\" x2=\"187.5\" y2=\"35.0\"\n",
              "    stroke=\"#663399\" stroke-width=\"2\" />\n",
              "<line x1=\"187.5\" y1=\"35.0\" x2=\"181.2\" y2=\"45.9\"\n",
              "    stroke=\"#663399\" stroke-width=\"2\" />\n",
              "<line x1=\"181.2\" y1=\"45.9\" x2=\"175.0\" y2=\"56.7\"\n",
              "    stroke=\"#663399\" stroke-width=\"2\" />\n",
              "<line x1=\"175.0\" y1=\"56.7\" x2=\"200.0\" y2=\"56.7\"\n",
              "    stroke=\"#663399\" stroke-width=\"2\" />\n",
              "<line x1=\"200.0\" y1=\"56.7\" x2=\"212.5\" y2=\"56.7\"\n",
              "    stroke=\"#663399\" stroke-width=\"2\" />\n",
              "<line x1=\"212.5\" y1=\"56.7\" x2=\"206.2\" y2=\"45.9\"\n",
              "    stroke=\"#663399\" stroke-width=\"2\" />\n",
              "<line x1=\"206.2\" y1=\"45.9\" x2=\"200.0\" y2=\"56.7\"\n",
              "    stroke=\"#663399\" stroke-width=\"2\" />\n",
              "<line x1=\"200.0\" y1=\"56.7\" x2=\"212.5\" y2=\"56.7\"\n",
              "    stroke=\"#663399\" stroke-width=\"2\" />\n",
              "<line x1=\"212.5\" y1=\"56.7\" x2=\"225.0\" y2=\"56.7\"\n",
              "    stroke=\"#663399\" stroke-width=\"2\" />\n",
              "<line x1=\"225.0\" y1=\"56.7\" x2=\"218.7\" y2=\"45.9\"\n",
              "    stroke=\"#663399\" stroke-width=\"2\" />\n",
              "<line x1=\"218.7\" y1=\"45.9\" x2=\"212.5\" y2=\"56.7\"\n",
              "    stroke=\"#663399\" stroke-width=\"2\" />\n",
              "<line x1=\"212.5\" y1=\"56.7\" x2=\"206.2\" y2=\"45.9\"\n",
              "    stroke=\"#663399\" stroke-width=\"2\" />\n",
              "<line x1=\"206.2\" y1=\"45.9\" x2=\"218.7\" y2=\"45.9\"\n",
              "    stroke=\"#663399\" stroke-width=\"2\" />\n",
              "<line x1=\"218.7\" y1=\"45.9\" x2=\"212.5\" y2=\"35.0\"\n",
              "    stroke=\"#663399\" stroke-width=\"2\" />\n",
              "<line x1=\"212.5\" y1=\"35.0\" x2=\"206.2\" y2=\"45.9\"\n",
              "    stroke=\"#663399\" stroke-width=\"2\" />\n",
              "<line x1=\"206.2\" y1=\"45.9\" x2=\"200.0\" y2=\"56.7\"\n",
              "    stroke=\"#663399\" stroke-width=\"2\" />\n",
              "<line x1=\"200.0\" y1=\"56.7\" x2=\"187.5\" y2=\"35.0\"\n",
              "    stroke=\"#663399\" stroke-width=\"2\" />\n",
              "<line x1=\"187.5\" y1=\"35.0\" x2=\"200.0\" y2=\"35.0\"\n",
              "    stroke=\"#663399\" stroke-width=\"2\" />\n",
              "<line x1=\"200.0\" y1=\"35.0\" x2=\"193.7\" y2=\"24.2\"\n",
              "    stroke=\"#663399\" stroke-width=\"2\" />\n",
              "<line x1=\"193.7\" y1=\"24.2\" x2=\"187.5\" y2=\"35.0\"\n",
              "    stroke=\"#663399\" stroke-width=\"2\" />\n",
              "<line x1=\"187.5\" y1=\"35.0\" x2=\"200.0\" y2=\"35.0\"\n",
              "    stroke=\"#663399\" stroke-width=\"2\" />\n",
              "<line x1=\"200.0\" y1=\"35.0\" x2=\"212.5\" y2=\"35.0\"\n",
              "    stroke=\"#663399\" stroke-width=\"2\" />\n",
              "<line x1=\"212.5\" y1=\"35.0\" x2=\"206.2\" y2=\"24.2\"\n",
              "    stroke=\"#663399\" stroke-width=\"2\" />\n",
              "<line x1=\"206.2\" y1=\"24.2\" x2=\"200.0\" y2=\"35.0\"\n",
              "    stroke=\"#663399\" stroke-width=\"2\" />\n",
              "<line x1=\"200.0\" y1=\"35.0\" x2=\"193.7\" y2=\"24.2\"\n",
              "    stroke=\"#663399\" stroke-width=\"2\" />\n",
              "<line x1=\"193.7\" y1=\"24.2\" x2=\"206.2\" y2=\"24.2\"\n",
              "    stroke=\"#663399\" stroke-width=\"2\" />\n",
              "<line x1=\"206.2\" y1=\"24.2\" x2=\"200.0\" y2=\"13.4\"\n",
              "    stroke=\"#663399\" stroke-width=\"2\" />\n",
              "<line x1=\"200.0\" y1=\"13.4\" x2=\"193.7\" y2=\"24.2\"\n",
              "    stroke=\"#663399\" stroke-width=\"2\" />\n",
              "<line x1=\"193.7\" y1=\"24.2\" x2=\"187.5\" y2=\"35.0\"\n",
              "    stroke=\"#663399\" stroke-width=\"2\" />\n",
              "<line x1=\"187.5\" y1=\"35.0\" x2=\"175.0\" y2=\"56.7\"\n",
              "    stroke=\"#663399\" stroke-width=\"2\" />\n",
              "<line x1=\"175.0\" y1=\"56.7\" x2=\"150.0\" y2=\"100.0\"\n",
              "    stroke=\"#663399\" stroke-width=\"2\" />\n",
              "\n",
              "<g transform=\"rotate(-90.0,150.0,100.0) translate(150.0, 100.0)\">\n",
              "    <circle stroke=\"#63A375\" stroke-width=\"2\" fill=\"transparent\" r=\"5.5\" cx=\"0\" cy=\"0\"/>\n",
              "    <polygon points=\"0,12 2,9 -2,9\" style=\"fill:#63A375;stroke:#63A375;stroke-width:2\"/>\n",
              "</g>\n",
              "\n",
              "</svg>"
            ]
          },
          "metadata": {}
        }
      ],
      "source": [
        "make_turtle(delay=0, height=200)\n",
        "\n",
        "sierpinski(100, 3)"
      ]
    },
    {
      "cell_type": "code",
      "execution_count": null,
      "id": "9d6969d4",
      "metadata": {
        "id": "9d6969d4"
      },
      "outputs": [],
      "source": []
    },
    {
      "cell_type": "markdown",
      "id": "a7f4edf8",
      "metadata": {
        "tags": [],
        "id": "a7f4edf8"
      },
      "source": [
        "[Think Python: 3rd Edition](https://allendowney.github.io/ThinkPython/index.html)\n",
        "\n",
        "Copyright 2024 [Allen B. Downey](https://allendowney.com)\n",
        "\n",
        "Code license: [MIT License](https://mit-license.org/)\n",
        "\n",
        "Text license: [Creative Commons Attribution-NonCommercial-ShareAlike 4.0 International](https://creativecommons.org/licenses/by-nc-sa/4.0/)"
      ]
    }
  ],
  "metadata": {
    "celltoolbar": "Tags",
    "kernelspec": {
      "display_name": "Python 3 (ipykernel)",
      "language": "python",
      "name": "python3"
    },
    "language_info": {
      "codemirror_mode": {
        "name": "ipython",
        "version": 3
      },
      "file_extension": ".py",
      "mimetype": "text/x-python",
      "name": "python",
      "nbconvert_exporter": "python",
      "pygments_lexer": "ipython3",
      "version": "3.10.11"
    },
    "colab": {
      "provenance": []
    }
  },
  "nbformat": 4,
  "nbformat_minor": 5
}